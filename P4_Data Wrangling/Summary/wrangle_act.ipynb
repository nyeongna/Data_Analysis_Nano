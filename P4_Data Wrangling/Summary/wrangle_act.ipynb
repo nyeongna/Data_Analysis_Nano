{
 "cells": [
  {
   "cell_type": "code",
   "execution_count": 50,
   "metadata": {},
   "outputs": [],
   "source": [
    "import pandas as pd\n",
    "import tweepy\n",
    "import requests\n",
    "import json\n",
    "import matplotlib.pyplot as plt\n",
    "import seaborn as sns"
   ]
  },
  {
   "cell_type": "markdown",
   "metadata": {},
   "source": [
    "## Data Gathering"
   ]
  },
  {
   "cell_type": "markdown",
   "metadata": {},
   "source": [
    "### Image Prediction data gathering"
   ]
  },
  {
   "cell_type": "code",
   "execution_count": 51,
   "metadata": {},
   "outputs": [
    {
     "data": {
      "text/html": [
       "<div>\n",
       "<style scoped>\n",
       "    .dataframe tbody tr th:only-of-type {\n",
       "        vertical-align: middle;\n",
       "    }\n",
       "\n",
       "    .dataframe tbody tr th {\n",
       "        vertical-align: top;\n",
       "    }\n",
       "\n",
       "    .dataframe thead th {\n",
       "        text-align: right;\n",
       "    }\n",
       "</style>\n",
       "<table border=\"1\" class=\"dataframe\">\n",
       "  <thead>\n",
       "    <tr style=\"text-align: right;\">\n",
       "      <th></th>\n",
       "      <th>tweet_id</th>\n",
       "      <th>jpg_url</th>\n",
       "      <th>img_num</th>\n",
       "      <th>p1</th>\n",
       "      <th>p1_conf</th>\n",
       "      <th>p1_dog</th>\n",
       "      <th>p2</th>\n",
       "      <th>p2_conf</th>\n",
       "      <th>p2_dog</th>\n",
       "      <th>p3</th>\n",
       "      <th>p3_conf</th>\n",
       "      <th>p3_dog</th>\n",
       "    </tr>\n",
       "  </thead>\n",
       "  <tbody>\n",
       "    <tr>\n",
       "      <th>0</th>\n",
       "      <td>666020888022790149</td>\n",
       "      <td>https://pbs.twimg.com/media/CT4udn0WwAA0aMy.jpg</td>\n",
       "      <td>1</td>\n",
       "      <td>Welsh_springer_spaniel</td>\n",
       "      <td>0.465074</td>\n",
       "      <td>True</td>\n",
       "      <td>collie</td>\n",
       "      <td>0.156665</td>\n",
       "      <td>True</td>\n",
       "      <td>Shetland_sheepdog</td>\n",
       "      <td>0.061428</td>\n",
       "      <td>True</td>\n",
       "    </tr>\n",
       "  </tbody>\n",
       "</table>\n",
       "</div>"
      ],
      "text/plain": [
       "             tweet_id                                          jpg_url  \\\n",
       "0  666020888022790149  https://pbs.twimg.com/media/CT4udn0WwAA0aMy.jpg   \n",
       "\n",
       "   img_num                      p1   p1_conf  p1_dog      p2   p2_conf  \\\n",
       "0        1  Welsh_springer_spaniel  0.465074    True  collie  0.156665   \n",
       "\n",
       "   p2_dog                 p3   p3_conf  p3_dog  \n",
       "0    True  Shetland_sheepdog  0.061428    True  "
      ]
     },
     "execution_count": 51,
     "metadata": {},
     "output_type": "execute_result"
    }
   ],
   "source": [
    "image_URL = 'https://d17h27t6h515a5.cloudfront.net/topher/2017/August/599fd2ad_image-predictions/image-predictions.tsv'\n",
    "req = requests.get(image_URL)\n",
    "url_content = req.content\n",
    "with open('imagePredict.tsv', 'wb') as file:\n",
    "    file.write(url_content)\n",
    "df_image = pd.read_csv('./imagePredict.tsv', sep='\\t')\n",
    "df_image.head(1)"
   ]
  },
  {
   "cell_type": "markdown",
   "metadata": {},
   "source": [
    "### WeRateDogs Twitter Archive gathering"
   ]
  },
  {
   "cell_type": "code",
   "execution_count": 52,
   "metadata": {},
   "outputs": [
    {
     "data": {
      "text/html": [
       "<div>\n",
       "<style scoped>\n",
       "    .dataframe tbody tr th:only-of-type {\n",
       "        vertical-align: middle;\n",
       "    }\n",
       "\n",
       "    .dataframe tbody tr th {\n",
       "        vertical-align: top;\n",
       "    }\n",
       "\n",
       "    .dataframe thead th {\n",
       "        text-align: right;\n",
       "    }\n",
       "</style>\n",
       "<table border=\"1\" class=\"dataframe\">\n",
       "  <thead>\n",
       "    <tr style=\"text-align: right;\">\n",
       "      <th></th>\n",
       "      <th>tweet_id</th>\n",
       "      <th>in_reply_to_status_id</th>\n",
       "      <th>in_reply_to_user_id</th>\n",
       "      <th>timestamp</th>\n",
       "      <th>source</th>\n",
       "      <th>text</th>\n",
       "      <th>retweeted_status_id</th>\n",
       "      <th>retweeted_status_user_id</th>\n",
       "      <th>retweeted_status_timestamp</th>\n",
       "      <th>expanded_urls</th>\n",
       "      <th>rating_numerator</th>\n",
       "      <th>rating_denominator</th>\n",
       "      <th>name</th>\n",
       "      <th>doggo</th>\n",
       "      <th>floofer</th>\n",
       "      <th>pupper</th>\n",
       "      <th>puppo</th>\n",
       "    </tr>\n",
       "  </thead>\n",
       "  <tbody>\n",
       "    <tr>\n",
       "      <th>0</th>\n",
       "      <td>892420643555336193</td>\n",
       "      <td>NaN</td>\n",
       "      <td>NaN</td>\n",
       "      <td>2017-08-01 16:23:56 +0000</td>\n",
       "      <td>&lt;a href=\"http://twitter.com/download/iphone\" r...</td>\n",
       "      <td>This is Phineas. He's a mystical boy. Only eve...</td>\n",
       "      <td>NaN</td>\n",
       "      <td>NaN</td>\n",
       "      <td>NaN</td>\n",
       "      <td>https://twitter.com/dog_rates/status/892420643...</td>\n",
       "      <td>13</td>\n",
       "      <td>10</td>\n",
       "      <td>Phineas</td>\n",
       "      <td>None</td>\n",
       "      <td>None</td>\n",
       "      <td>None</td>\n",
       "      <td>None</td>\n",
       "    </tr>\n",
       "  </tbody>\n",
       "</table>\n",
       "</div>"
      ],
      "text/plain": [
       "             tweet_id  in_reply_to_status_id  in_reply_to_user_id  \\\n",
       "0  892420643555336193                    NaN                  NaN   \n",
       "\n",
       "                   timestamp  \\\n",
       "0  2017-08-01 16:23:56 +0000   \n",
       "\n",
       "                                              source  \\\n",
       "0  <a href=\"http://twitter.com/download/iphone\" r...   \n",
       "\n",
       "                                                text  retweeted_status_id  \\\n",
       "0  This is Phineas. He's a mystical boy. Only eve...                  NaN   \n",
       "\n",
       "   retweeted_status_user_id retweeted_status_timestamp  \\\n",
       "0                       NaN                        NaN   \n",
       "\n",
       "                                       expanded_urls  rating_numerator  \\\n",
       "0  https://twitter.com/dog_rates/status/892420643...                13   \n",
       "\n",
       "   rating_denominator     name doggo floofer pupper puppo  \n",
       "0                  10  Phineas  None    None   None  None  "
      ]
     },
     "execution_count": 52,
     "metadata": {},
     "output_type": "execute_result"
    }
   ],
   "source": [
    "df_arc = pd.read_csv('./twitter-archive-enhanced.csv')\n",
    "df_arc.head(1)"
   ]
  },
  {
   "cell_type": "markdown",
   "metadata": {},
   "source": [
    "### Tweet_json gathering"
   ]
  },
  {
   "cell_type": "code",
   "execution_count": 53,
   "metadata": {},
   "outputs": [],
   "source": [
    "# import tweepy\n",
    "# from tweepy import OAuthHandler\n",
    "# import json\n",
    "# from timeit import default_timer as timer\n",
    "\n",
    "# # Query Twitter API for each tweet in the Twitter archive and save JSON in a text file\n",
    "# # These are hidden to comply with Twitter's API terms and conditions\n",
    "# consumer_key = 'HIDDEN'\n",
    "# consumer_secret = 'HIDDEN'\n",
    "# access_token = 'HIDDEN'\n",
    "# access_secret = 'HIDDEN'\n",
    "\n",
    "# auth = OAuthHandler(consumer_key, consumer_secret)\n",
    "# auth.set_access_token(access_token, access_secret)\n",
    "\n",
    "# api = tweepy.API(auth, wait_on_rate_limit=True)\n",
    "\n",
    "# # NOTE TO STUDENT WITH MOBILE VERIFICATION ISSUES:\n",
    "# # df_1 is a DataFrame with the twitter_archive_enhanced.csv file. You may have to\n",
    "# # change line 17 to match the name of your DataFrame with twitter_archive_enhanced.csv\n",
    "# # NOTE TO REVIEWER: this student had mobile verification issues so the following\n",
    "# # Twitter API code was sent to this student from a Udacity instructor\n",
    "# # Tweet IDs for which to gather additional data via Twitter's API\n",
    "# tweet_ids = df_1.tweet_id.values\n",
    "# len(tweet_ids)\n",
    "\n",
    "# # Query Twitter's API for JSON data for each tweet ID in the Twitter archive\n",
    "# count = 0\n",
    "# fails_dict = {}\n",
    "# start = timer()\n",
    "# # Save each tweet's returned JSON as a new line in a .txt file\n",
    "# with open('tweet_json.txt', 'w') as outfile:\n",
    "#     # This loop will likely take 20-30 minutes to run because of Twitter's rate limit\n",
    "#     for tweet_id in tweet_ids:\n",
    "#         count += 1\n",
    "#         print(str(count) + \": \" + str(tweet_id))\n",
    "#         try:\n",
    "#             tweet = api.get_status(tweet_id, tweet_mode='extended')\n",
    "#             print(\"Success\")\n",
    "#             json.dump(tweet._json, outfile)\n",
    "#             outfile.write('\\n')\n",
    "#         except tweepy.TweepError as e:\n",
    "#             print(\"Fail\")\n",
    "#             fails_dict[tweet_id] = e\n",
    "#             pass\n",
    "# end = timer()\n",
    "# print(end - start)\n",
    "# print(fails_dict)"
   ]
  },
  {
   "cell_type": "code",
   "execution_count": 54,
   "metadata": {},
   "outputs": [
    {
     "name": "stdout",
     "output_type": "stream",
     "text": [
      "<class 'pandas.core.frame.DataFrame'>\n",
      "RangeIndex: 2354 entries, 0 to 2353\n",
      "Data columns (total 3 columns):\n",
      " #   Column          Non-Null Count  Dtype\n",
      "---  ------          --------------  -----\n",
      " 0   id              2354 non-null   int64\n",
      " 1   retweet_count   2354 non-null   int64\n",
      " 2   favorite_count  2354 non-null   int64\n",
      "dtypes: int64(3)\n",
      "memory usage: 55.3 KB\n"
     ]
    }
   ],
   "source": [
    "# loads json file\n",
    "data = []\n",
    "with open('./tweet_json.txt') as f:\n",
    "    for line in f:\n",
    "        data.append(json.loads(line))\n",
    "df_tweet = pd.DataFrame(data)\n",
    "df_tweet = df_tweet[['id', 'retweet_count', 'favorite_count']]\n",
    "len(df_tweet)\n",
    "df_tweet.head()\n",
    "df_tweet.info()"
   ]
  },
  {
   "cell_type": "markdown",
   "metadata": {},
   "source": [
    "## Data Assessing"
   ]
  },
  {
   "cell_type": "code",
   "execution_count": 55,
   "metadata": {},
   "outputs": [
    {
     "name": "stdout",
     "output_type": "stream",
     "text": [
      "<class 'pandas.core.frame.DataFrame'>\n",
      "RangeIndex: 2356 entries, 0 to 2355\n",
      "Data columns (total 17 columns):\n",
      " #   Column                      Non-Null Count  Dtype  \n",
      "---  ------                      --------------  -----  \n",
      " 0   tweet_id                    2356 non-null   int64  \n",
      " 1   in_reply_to_status_id       78 non-null     float64\n",
      " 2   in_reply_to_user_id         78 non-null     float64\n",
      " 3   timestamp                   2356 non-null   object \n",
      " 4   source                      2356 non-null   object \n",
      " 5   text                        2356 non-null   object \n",
      " 6   retweeted_status_id         181 non-null    float64\n",
      " 7   retweeted_status_user_id    181 non-null    float64\n",
      " 8   retweeted_status_timestamp  181 non-null    object \n",
      " 9   expanded_urls               2297 non-null   object \n",
      " 10  rating_numerator            2356 non-null   int64  \n",
      " 11  rating_denominator          2356 non-null   int64  \n",
      " 12  name                        2356 non-null   object \n",
      " 13  doggo                       2356 non-null   object \n",
      " 14  floofer                     2356 non-null   object \n",
      " 15  pupper                      2356 non-null   object \n",
      " 16  puppo                       2356 non-null   object \n",
      "dtypes: float64(4), int64(3), object(10)\n",
      "memory usage: 313.0+ KB\n"
     ]
    }
   ],
   "source": [
    "df_arc.info()"
   ]
  },
  {
   "cell_type": "markdown",
   "metadata": {},
   "source": [
    "- There are 2356 entries and for some Columns, we have some Null(NaN) data. This needs to be looked later.\n",
    "- Some columns (expanded_urls, source etc) seem unnecessary"
   ]
  },
  {
   "cell_type": "code",
   "execution_count": 56,
   "metadata": {},
   "outputs": [
    {
     "data": {
      "text/html": [
       "<div>\n",
       "<style scoped>\n",
       "    .dataframe tbody tr th:only-of-type {\n",
       "        vertical-align: middle;\n",
       "    }\n",
       "\n",
       "    .dataframe tbody tr th {\n",
       "        vertical-align: top;\n",
       "    }\n",
       "\n",
       "    .dataframe thead th {\n",
       "        text-align: right;\n",
       "    }\n",
       "</style>\n",
       "<table border=\"1\" class=\"dataframe\">\n",
       "  <thead>\n",
       "    <tr style=\"text-align: right;\">\n",
       "      <th></th>\n",
       "      <th>tweet_id</th>\n",
       "      <th>in_reply_to_status_id</th>\n",
       "      <th>in_reply_to_user_id</th>\n",
       "      <th>timestamp</th>\n",
       "      <th>source</th>\n",
       "      <th>text</th>\n",
       "      <th>retweeted_status_id</th>\n",
       "      <th>retweeted_status_user_id</th>\n",
       "      <th>retweeted_status_timestamp</th>\n",
       "      <th>expanded_urls</th>\n",
       "      <th>rating_numerator</th>\n",
       "      <th>rating_denominator</th>\n",
       "      <th>name</th>\n",
       "      <th>doggo</th>\n",
       "      <th>floofer</th>\n",
       "      <th>pupper</th>\n",
       "      <th>puppo</th>\n",
       "    </tr>\n",
       "  </thead>\n",
       "  <tbody>\n",
       "    <tr>\n",
       "      <th>1527</th>\n",
       "      <td>690360449368465409</td>\n",
       "      <td>NaN</td>\n",
       "      <td>NaN</td>\n",
       "      <td>2016-01-22 02:28:52 +0000</td>\n",
       "      <td>&lt;a href=\"http://twitter.com/download/iphone\" r...</td>\n",
       "      <td>Stop sending in lobsters. This is the final wa...</td>\n",
       "      <td>NaN</td>\n",
       "      <td>NaN</td>\n",
       "      <td>NaN</td>\n",
       "      <td>https://twitter.com/dog_rates/status/690360449...</td>\n",
       "      <td>9</td>\n",
       "      <td>10</td>\n",
       "      <td>the</td>\n",
       "      <td>None</td>\n",
       "      <td>None</td>\n",
       "      <td>None</td>\n",
       "      <td>None</td>\n",
       "    </tr>\n",
       "    <tr>\n",
       "      <th>2153</th>\n",
       "      <td>669661792646373376</td>\n",
       "      <td>NaN</td>\n",
       "      <td>NaN</td>\n",
       "      <td>2015-11-25 23:39:47 +0000</td>\n",
       "      <td>&lt;a href=\"http://twitter.com/download/iphone\" r...</td>\n",
       "      <td>This is a brave dog. Excellent free climber. T...</td>\n",
       "      <td>NaN</td>\n",
       "      <td>NaN</td>\n",
       "      <td>NaN</td>\n",
       "      <td>https://twitter.com/dog_rates/status/669661792...</td>\n",
       "      <td>5</td>\n",
       "      <td>10</td>\n",
       "      <td>a</td>\n",
       "      <td>None</td>\n",
       "      <td>None</td>\n",
       "      <td>None</td>\n",
       "      <td>None</td>\n",
       "    </tr>\n",
       "    <tr>\n",
       "      <th>2014</th>\n",
       "      <td>672222792075620352</td>\n",
       "      <td>NaN</td>\n",
       "      <td>NaN</td>\n",
       "      <td>2015-12-03 01:16:17 +0000</td>\n",
       "      <td>&lt;a href=\"http://twitter.com/download/iphone\" r...</td>\n",
       "      <td>This is Cal. He's a Swedish Geriatric Cheddar....</td>\n",
       "      <td>NaN</td>\n",
       "      <td>NaN</td>\n",
       "      <td>NaN</td>\n",
       "      <td>https://twitter.com/dog_rates/status/672222792...</td>\n",
       "      <td>9</td>\n",
       "      <td>10</td>\n",
       "      <td>Cal</td>\n",
       "      <td>None</td>\n",
       "      <td>None</td>\n",
       "      <td>None</td>\n",
       "      <td>None</td>\n",
       "    </tr>\n",
       "    <tr>\n",
       "      <th>1773</th>\n",
       "      <td>678255464182861824</td>\n",
       "      <td>NaN</td>\n",
       "      <td>NaN</td>\n",
       "      <td>2015-12-19 16:47:58 +0000</td>\n",
       "      <td>&lt;a href=\"http://twitter.com/download/iphone\" r...</td>\n",
       "      <td>This is Jessifer. She is a Bismoth Teriyaki. F...</td>\n",
       "      <td>NaN</td>\n",
       "      <td>NaN</td>\n",
       "      <td>NaN</td>\n",
       "      <td>https://twitter.com/dog_rates/status/678255464...</td>\n",
       "      <td>9</td>\n",
       "      <td>10</td>\n",
       "      <td>Jessifer</td>\n",
       "      <td>None</td>\n",
       "      <td>None</td>\n",
       "      <td>None</td>\n",
       "      <td>None</td>\n",
       "    </tr>\n",
       "    <tr>\n",
       "      <th>2134</th>\n",
       "      <td>670069087419133954</td>\n",
       "      <td>NaN</td>\n",
       "      <td>NaN</td>\n",
       "      <td>2015-11-27 02:38:14 +0000</td>\n",
       "      <td>&lt;a href=\"http://twitter.com/download/iphone\" r...</td>\n",
       "      <td>This is Randall. He's from Chernobyl. Built pl...</td>\n",
       "      <td>NaN</td>\n",
       "      <td>NaN</td>\n",
       "      <td>NaN</td>\n",
       "      <td>https://twitter.com/dog_rates/status/670069087...</td>\n",
       "      <td>5</td>\n",
       "      <td>10</td>\n",
       "      <td>Randall</td>\n",
       "      <td>None</td>\n",
       "      <td>None</td>\n",
       "      <td>None</td>\n",
       "      <td>None</td>\n",
       "    </tr>\n",
       "  </tbody>\n",
       "</table>\n",
       "</div>"
      ],
      "text/plain": [
       "                tweet_id  in_reply_to_status_id  in_reply_to_user_id  \\\n",
       "1527  690360449368465409                    NaN                  NaN   \n",
       "2153  669661792646373376                    NaN                  NaN   \n",
       "2014  672222792075620352                    NaN                  NaN   \n",
       "1773  678255464182861824                    NaN                  NaN   \n",
       "2134  670069087419133954                    NaN                  NaN   \n",
       "\n",
       "                      timestamp  \\\n",
       "1527  2016-01-22 02:28:52 +0000   \n",
       "2153  2015-11-25 23:39:47 +0000   \n",
       "2014  2015-12-03 01:16:17 +0000   \n",
       "1773  2015-12-19 16:47:58 +0000   \n",
       "2134  2015-11-27 02:38:14 +0000   \n",
       "\n",
       "                                                 source  \\\n",
       "1527  <a href=\"http://twitter.com/download/iphone\" r...   \n",
       "2153  <a href=\"http://twitter.com/download/iphone\" r...   \n",
       "2014  <a href=\"http://twitter.com/download/iphone\" r...   \n",
       "1773  <a href=\"http://twitter.com/download/iphone\" r...   \n",
       "2134  <a href=\"http://twitter.com/download/iphone\" r...   \n",
       "\n",
       "                                                   text  retweeted_status_id  \\\n",
       "1527  Stop sending in lobsters. This is the final wa...                  NaN   \n",
       "2153  This is a brave dog. Excellent free climber. T...                  NaN   \n",
       "2014  This is Cal. He's a Swedish Geriatric Cheddar....                  NaN   \n",
       "1773  This is Jessifer. She is a Bismoth Teriyaki. F...                  NaN   \n",
       "2134  This is Randall. He's from Chernobyl. Built pl...                  NaN   \n",
       "\n",
       "      retweeted_status_user_id retweeted_status_timestamp  \\\n",
       "1527                       NaN                        NaN   \n",
       "2153                       NaN                        NaN   \n",
       "2014                       NaN                        NaN   \n",
       "1773                       NaN                        NaN   \n",
       "2134                       NaN                        NaN   \n",
       "\n",
       "                                          expanded_urls  rating_numerator  \\\n",
       "1527  https://twitter.com/dog_rates/status/690360449...                 9   \n",
       "2153  https://twitter.com/dog_rates/status/669661792...                 5   \n",
       "2014  https://twitter.com/dog_rates/status/672222792...                 9   \n",
       "1773  https://twitter.com/dog_rates/status/678255464...                 9   \n",
       "2134  https://twitter.com/dog_rates/status/670069087...                 5   \n",
       "\n",
       "      rating_denominator      name doggo floofer pupper puppo  \n",
       "1527                  10       the  None    None   None  None  \n",
       "2153                  10         a  None    None   None  None  \n",
       "2014                  10       Cal  None    None   None  None  \n",
       "1773                  10  Jessifer  None    None   None  None  \n",
       "2134                  10   Randall  None    None   None  None  "
      ]
     },
     "execution_count": 56,
     "metadata": {},
     "output_type": "execute_result"
    }
   ],
   "source": [
    "df_arc.sample(5)"
   ]
  },
  {
   "cell_type": "markdown",
   "metadata": {},
   "source": [
    "- Columne names 'doggo', 'floofer', 'pupper', 'puppo' can be melted into one single column called 'stages'"
   ]
  },
  {
   "cell_type": "code",
   "execution_count": 57,
   "metadata": {},
   "outputs": [
    {
     "data": {
      "text/plain": [
       "Index(['tweet_id', 'in_reply_to_status_id', 'in_reply_to_user_id', 'timestamp',\n",
       "       'source', 'text', 'retweeted_status_id', 'retweeted_status_user_id',\n",
       "       'retweeted_status_timestamp', 'expanded_urls', 'rating_numerator',\n",
       "       'rating_denominator', 'name', 'doggo', 'floofer', 'pupper', 'puppo'],\n",
       "      dtype='object')"
      ]
     },
     "execution_count": 57,
     "metadata": {},
     "output_type": "execute_result"
    }
   ],
   "source": [
    "df_arc.columns"
   ]
  },
  {
   "cell_type": "code",
   "execution_count": 58,
   "metadata": {},
   "outputs": [
    {
     "data": {
      "text/plain": [
       "None       745\n",
       "a           55\n",
       "Charlie     12\n",
       "Oliver      11\n",
       "Cooper      11\n",
       "          ... \n",
       "Leonard      1\n",
       "Edgar        1\n",
       "Gilbert      1\n",
       "Pepper       1\n",
       "Zuzu         1\n",
       "Name: name, Length: 957, dtype: int64"
      ]
     },
     "execution_count": 58,
     "metadata": {},
     "output_type": "execute_result"
    }
   ],
   "source": [
    "df_arc.sample(10)\n",
    "df_arc['name'].value_counts()"
   ]
  },
  {
   "cell_type": "markdown",
   "metadata": {},
   "source": [
    "- Names like 'None', 'a', need to be adjusted since apparantly they are not extracted correctly"
   ]
  },
  {
   "cell_type": "markdown",
   "metadata": {},
   "source": [
    "Data Quality\n",
    "- Drop the rows that are 'retweet' or 'in_reply' tweets. We only need the original rating tweet.\n",
    "- Drop Unnecessary columns and keep only the necessary ones\n",
    "- Change Data type of 'timestamp' column from 'object' to 'Datetime'\n",
    "- Fix the wrong 'rating_numerator' values\n",
    "- Fix the wrong 'rating_denominator' values\n",
    "- Fix the Wrong data in 'name' columne - Strange names like 'a', 'None', 'Not'\n",
    "- Change data type of ['retweet_count','favorite_count','img_num'] to Int64\n",
    "- Replace str type \"None\" with \"Nan\""
   ]
  },
  {
   "cell_type": "markdown",
   "metadata": {},
   "source": [
    "Data Tidiness\n",
    "- Column headers should NOT be values, but variable names. Melt ['doggo', 'floofer', 'pupper', 'puppo']\n",
    "- 'Image Prediction', 'WeRateDogs Archive', and 'tweet-json' dataframes need to be merged in one dataframe(table)"
   ]
  },
  {
   "cell_type": "markdown",
   "metadata": {},
   "source": [
    "## Data Cleaning"
   ]
  },
  {
   "cell_type": "markdown",
   "metadata": {},
   "source": [
    "### Data Tidiness First"
   ]
  },
  {
   "cell_type": "markdown",
   "metadata": {},
   "source": [
    "**Define & Code**\n",
    "#### Column headers should NOT be values, but variable names. Melt ['doggo', 'floofer', 'pupper', 'puppo']"
   ]
  },
  {
   "cell_type": "code",
   "execution_count": 59,
   "metadata": {},
   "outputs": [],
   "source": [
    "# Create new column names 'stage' and incorporate all the dog types\n",
    "df_arc[['doggo', 'floofer', 'pupper', 'puppo']] = df_arc[['doggo', 'floofer', 'pupper', 'puppo']].replace('None', '')\n",
    "df_arc['stage'] = (df_arc['doggo'] + df_arc['floofer'] + df_arc['pupper'] + df_arc['puppo']).str.strip()\n",
    "df_arc['stage'] = df_arc['stage'].replace('doggofloofer', 'doggo/floofer')\n",
    "df_arc['stage'] = df_arc['stage'].replace('doggopupper', 'doggo/pupper')\n",
    "df_arc['stage'] = df_arc['stage'].replace('doggopuppo', 'doggo/puppo')\n",
    "df_arc['stage'] = df_arc['stage'].replace('flooferpupper', 'floofer/pupper')\n",
    "df_arc['stage'] = df_arc['stage'].replace('flooferpuppo', 'floofer/puppo')\n",
    "df_arc['stage'] = df_arc['stage'].replace('pupperpoppo', 'pupper/puppo')\n",
    "\n",
    "# Replace '' wwith 'NaN'\n",
    "df_arc['stage'] = df_arc['stage'].replace('', np.nan)\n",
    "\n",
    "# Delete 4 dog stages columns\n",
    "df_arc.drop(['doggo', 'floofer', 'pupper', 'puppo'], axis=1, inplace=True)\n",
    "\n"
   ]
  },
  {
   "cell_type": "markdown",
   "metadata": {},
   "source": [
    "**Test**"
   ]
  },
  {
   "cell_type": "code",
   "execution_count": 60,
   "metadata": {},
   "outputs": [
    {
     "data": {
      "text/html": [
       "<div>\n",
       "<style scoped>\n",
       "    .dataframe tbody tr th:only-of-type {\n",
       "        vertical-align: middle;\n",
       "    }\n",
       "\n",
       "    .dataframe tbody tr th {\n",
       "        vertical-align: top;\n",
       "    }\n",
       "\n",
       "    .dataframe thead th {\n",
       "        text-align: right;\n",
       "    }\n",
       "</style>\n",
       "<table border=\"1\" class=\"dataframe\">\n",
       "  <thead>\n",
       "    <tr style=\"text-align: right;\">\n",
       "      <th></th>\n",
       "      <th>tweet_id</th>\n",
       "      <th>in_reply_to_status_id</th>\n",
       "      <th>in_reply_to_user_id</th>\n",
       "      <th>timestamp</th>\n",
       "      <th>source</th>\n",
       "      <th>text</th>\n",
       "      <th>retweeted_status_id</th>\n",
       "      <th>retweeted_status_user_id</th>\n",
       "      <th>retweeted_status_timestamp</th>\n",
       "      <th>expanded_urls</th>\n",
       "      <th>rating_numerator</th>\n",
       "      <th>rating_denominator</th>\n",
       "      <th>name</th>\n",
       "      <th>stage</th>\n",
       "    </tr>\n",
       "  </thead>\n",
       "  <tbody>\n",
       "    <tr>\n",
       "      <th>200</th>\n",
       "      <td>854010172552949760</td>\n",
       "      <td>NaN</td>\n",
       "      <td>NaN</td>\n",
       "      <td>2017-04-17 16:34:26 +0000</td>\n",
       "      <td>&lt;a href=\"http://twitter.com/download/iphone\" r...</td>\n",
       "      <td>At first I thought this was a shy doggo, but i...</td>\n",
       "      <td>NaN</td>\n",
       "      <td>NaN</td>\n",
       "      <td>NaN</td>\n",
       "      <td>https://twitter.com/dog_rates/status/854010172...</td>\n",
       "      <td>11</td>\n",
       "      <td>10</td>\n",
       "      <td>None</td>\n",
       "      <td>doggo/floofer</td>\n",
       "    </tr>\n",
       "  </tbody>\n",
       "</table>\n",
       "</div>"
      ],
      "text/plain": [
       "               tweet_id  in_reply_to_status_id  in_reply_to_user_id  \\\n",
       "200  854010172552949760                    NaN                  NaN   \n",
       "\n",
       "                     timestamp  \\\n",
       "200  2017-04-17 16:34:26 +0000   \n",
       "\n",
       "                                                source  \\\n",
       "200  <a href=\"http://twitter.com/download/iphone\" r...   \n",
       "\n",
       "                                                  text  retweeted_status_id  \\\n",
       "200  At first I thought this was a shy doggo, but i...                  NaN   \n",
       "\n",
       "     retweeted_status_user_id retweeted_status_timestamp  \\\n",
       "200                       NaN                        NaN   \n",
       "\n",
       "                                         expanded_urls  rating_numerator  \\\n",
       "200  https://twitter.com/dog_rates/status/854010172...                11   \n",
       "\n",
       "     rating_denominator  name          stage  \n",
       "200                  10  None  doggo/floofer  "
      ]
     },
     "execution_count": 60,
     "metadata": {},
     "output_type": "execute_result"
    }
   ],
   "source": [
    "# Test\n",
    "df_arc[df_arc['tweet_id']==854010172552949760]"
   ]
  },
  {
   "cell_type": "markdown",
   "metadata": {},
   "source": [
    "**Define & Code**\n",
    "#### 'Image Prediction', 'WeRateDogs Archive', and 'tweet-json' dataframes need to be merged in one dataframe(table)"
   ]
  },
  {
   "cell_type": "code",
   "execution_count": 61,
   "metadata": {},
   "outputs": [
    {
     "data": {
      "text/plain": [
       "(2356, 2075, 2354)"
      ]
     },
     "execution_count": 61,
     "metadata": {},
     "output_type": "execute_result"
    }
   ],
   "source": [
    "len(df_arc), len(df_image), len(df_tweet)"
   ]
  },
  {
   "cell_type": "code",
   "execution_count": 62,
   "metadata": {},
   "outputs": [],
   "source": [
    "# Change columne names from 'tweet_id' to 'id'\n",
    "df_arc.rename(columns={'tweet_id':'id'}, inplace=True)\n",
    "df_image.rename(columns={'tweet_id':'id'}, inplace=True)"
   ]
  },
  {
   "cell_type": "code",
   "execution_count": 63,
   "metadata": {},
   "outputs": [],
   "source": [
    "# Mege all three tables into one dataframe\n",
    "df_total = pd.merge(df_arc, df_tweet, how='left', on='id')\n",
    "df_total = pd.merge(df_total, df_image, how='left', on='id')"
   ]
  },
  {
   "cell_type": "markdown",
   "metadata": {},
   "source": [
    "**Test**"
   ]
  },
  {
   "cell_type": "code",
   "execution_count": 64,
   "metadata": {},
   "outputs": [
    {
     "name": "stdout",
     "output_type": "stream",
     "text": [
      "<class 'pandas.core.frame.DataFrame'>\n",
      "Int64Index: 2356 entries, 0 to 2355\n",
      "Data columns (total 27 columns):\n",
      " #   Column                      Non-Null Count  Dtype  \n",
      "---  ------                      --------------  -----  \n",
      " 0   id                          2356 non-null   int64  \n",
      " 1   in_reply_to_status_id       78 non-null     float64\n",
      " 2   in_reply_to_user_id         78 non-null     float64\n",
      " 3   timestamp                   2356 non-null   object \n",
      " 4   source                      2356 non-null   object \n",
      " 5   text                        2356 non-null   object \n",
      " 6   retweeted_status_id         181 non-null    float64\n",
      " 7   retweeted_status_user_id    181 non-null    float64\n",
      " 8   retweeted_status_timestamp  181 non-null    object \n",
      " 9   expanded_urls               2297 non-null   object \n",
      " 10  rating_numerator            2356 non-null   int64  \n",
      " 11  rating_denominator          2356 non-null   int64  \n",
      " 12  name                        2356 non-null   object \n",
      " 13  stage                       380 non-null    object \n",
      " 14  retweet_count               2354 non-null   float64\n",
      " 15  favorite_count              2354 non-null   float64\n",
      " 16  jpg_url                     2075 non-null   object \n",
      " 17  img_num                     2075 non-null   float64\n",
      " 18  p1                          2075 non-null   object \n",
      " 19  p1_conf                     2075 non-null   float64\n",
      " 20  p1_dog                      2075 non-null   object \n",
      " 21  p2                          2075 non-null   object \n",
      " 22  p2_conf                     2075 non-null   float64\n",
      " 23  p2_dog                      2075 non-null   object \n",
      " 24  p3                          2075 non-null   object \n",
      " 25  p3_conf                     2075 non-null   float64\n",
      " 26  p3_dog                      2075 non-null   object \n",
      "dtypes: float64(10), int64(3), object(14)\n",
      "memory usage: 515.4+ KB\n"
     ]
    }
   ],
   "source": [
    "# Test\n",
    "df_total.info()"
   ]
  },
  {
   "cell_type": "markdown",
   "metadata": {},
   "source": [
    "### Data Quality"
   ]
  },
  {
   "cell_type": "markdown",
   "metadata": {},
   "source": [
    "**Define & Code**\n",
    "#### Drop the rows that are 'retweet' or 'in_reply' tweets. We only need the original rating tweet."
   ]
  },
  {
   "cell_type": "code",
   "execution_count": 65,
   "metadata": {},
   "outputs": [],
   "source": [
    "# Find the rows that meet the following conditions(Not in-reply and Not retweet)\n",
    "cond1 = df_total['in_reply_to_status_id'].isnull()\n",
    "cond2 = df_total['retweeted_status_id'].isnull()\n",
    "df_total = df_total[cond1&cond2].copy()"
   ]
  },
  {
   "cell_type": "markdown",
   "metadata": {},
   "source": [
    "**Test**"
   ]
  },
  {
   "cell_type": "code",
   "execution_count": 66,
   "metadata": {},
   "outputs": [
    {
     "data": {
      "text/plain": [
       "(0, 0)"
      ]
     },
     "execution_count": 66,
     "metadata": {},
     "output_type": "execute_result"
    }
   ],
   "source": [
    "# Test\n",
    "df_total['in_reply_to_status_id'].notnull().sum(), df_total['retweeted_status_id'].notnull().sum()"
   ]
  },
  {
   "cell_type": "markdown",
   "metadata": {},
   "source": [
    "**Define & Code**\n",
    "#### Drop Unnecessary columns"
   ]
  },
  {
   "cell_type": "code",
   "execution_count": 67,
   "metadata": {},
   "outputs": [
    {
     "data": {
      "text/plain": [
       "Index(['id', 'in_reply_to_status_id', 'in_reply_to_user_id', 'timestamp',\n",
       "       'source', 'text', 'retweeted_status_id', 'retweeted_status_user_id',\n",
       "       'retweeted_status_timestamp', 'expanded_urls', 'rating_numerator',\n",
       "       'rating_denominator', 'name', 'stage', 'retweet_count',\n",
       "       'favorite_count', 'jpg_url', 'img_num', 'p1', 'p1_conf', 'p1_dog', 'p2',\n",
       "       'p2_conf', 'p2_dog', 'p3', 'p3_conf', 'p3_dog'],\n",
       "      dtype='object')"
      ]
     },
     "execution_count": 67,
     "metadata": {},
     "output_type": "execute_result"
    }
   ],
   "source": [
    "df_total.columns"
   ]
  },
  {
   "cell_type": "code",
   "execution_count": 68,
   "metadata": {},
   "outputs": [],
   "source": [
    "df_total = df_total[['id', 'timestamp', 'text', 'rating_numerator', 'rating_denominator', 'name','stage','retweet_count','favorite_count','img_num','p1','p1_conf']]"
   ]
  },
  {
   "cell_type": "markdown",
   "metadata": {},
   "source": [
    "**Test**"
   ]
  },
  {
   "cell_type": "code",
   "execution_count": 69,
   "metadata": {},
   "outputs": [
    {
     "data": {
      "text/html": [
       "<div>\n",
       "<style scoped>\n",
       "    .dataframe tbody tr th:only-of-type {\n",
       "        vertical-align: middle;\n",
       "    }\n",
       "\n",
       "    .dataframe tbody tr th {\n",
       "        vertical-align: top;\n",
       "    }\n",
       "\n",
       "    .dataframe thead th {\n",
       "        text-align: right;\n",
       "    }\n",
       "</style>\n",
       "<table border=\"1\" class=\"dataframe\">\n",
       "  <thead>\n",
       "    <tr style=\"text-align: right;\">\n",
       "      <th></th>\n",
       "      <th>id</th>\n",
       "      <th>timestamp</th>\n",
       "      <th>text</th>\n",
       "      <th>rating_numerator</th>\n",
       "      <th>rating_denominator</th>\n",
       "      <th>name</th>\n",
       "      <th>stage</th>\n",
       "      <th>retweet_count</th>\n",
       "      <th>favorite_count</th>\n",
       "      <th>img_num</th>\n",
       "      <th>p1</th>\n",
       "      <th>p1_conf</th>\n",
       "    </tr>\n",
       "  </thead>\n",
       "  <tbody>\n",
       "    <tr>\n",
       "      <th>0</th>\n",
       "      <td>892420643555336193</td>\n",
       "      <td>2017-08-01 16:23:56 +0000</td>\n",
       "      <td>This is Phineas. He's a mystical boy. Only eve...</td>\n",
       "      <td>13</td>\n",
       "      <td>10</td>\n",
       "      <td>Phineas</td>\n",
       "      <td>NaN</td>\n",
       "      <td>8853.0</td>\n",
       "      <td>39467.0</td>\n",
       "      <td>1.0</td>\n",
       "      <td>orange</td>\n",
       "      <td>0.097049</td>\n",
       "    </tr>\n",
       "    <tr>\n",
       "      <th>1</th>\n",
       "      <td>892177421306343426</td>\n",
       "      <td>2017-08-01 00:17:27 +0000</td>\n",
       "      <td>This is Tilly. She's just checking pup on you....</td>\n",
       "      <td>13</td>\n",
       "      <td>10</td>\n",
       "      <td>Tilly</td>\n",
       "      <td>NaN</td>\n",
       "      <td>6514.0</td>\n",
       "      <td>33819.0</td>\n",
       "      <td>1.0</td>\n",
       "      <td>Chihuahua</td>\n",
       "      <td>0.323581</td>\n",
       "    </tr>\n",
       "    <tr>\n",
       "      <th>2</th>\n",
       "      <td>891815181378084864</td>\n",
       "      <td>2017-07-31 00:18:03 +0000</td>\n",
       "      <td>This is Archie. He is a rare Norwegian Pouncin...</td>\n",
       "      <td>12</td>\n",
       "      <td>10</td>\n",
       "      <td>Archie</td>\n",
       "      <td>NaN</td>\n",
       "      <td>4328.0</td>\n",
       "      <td>25461.0</td>\n",
       "      <td>1.0</td>\n",
       "      <td>Chihuahua</td>\n",
       "      <td>0.716012</td>\n",
       "    </tr>\n",
       "    <tr>\n",
       "      <th>3</th>\n",
       "      <td>891689557279858688</td>\n",
       "      <td>2017-07-30 15:58:51 +0000</td>\n",
       "      <td>This is Darla. She commenced a snooze mid meal...</td>\n",
       "      <td>13</td>\n",
       "      <td>10</td>\n",
       "      <td>Darla</td>\n",
       "      <td>NaN</td>\n",
       "      <td>8964.0</td>\n",
       "      <td>42908.0</td>\n",
       "      <td>1.0</td>\n",
       "      <td>paper_towel</td>\n",
       "      <td>0.170278</td>\n",
       "    </tr>\n",
       "    <tr>\n",
       "      <th>4</th>\n",
       "      <td>891327558926688256</td>\n",
       "      <td>2017-07-29 16:00:24 +0000</td>\n",
       "      <td>This is Franklin. He would like you to stop ca...</td>\n",
       "      <td>12</td>\n",
       "      <td>10</td>\n",
       "      <td>Franklin</td>\n",
       "      <td>NaN</td>\n",
       "      <td>9774.0</td>\n",
       "      <td>41048.0</td>\n",
       "      <td>2.0</td>\n",
       "      <td>basset</td>\n",
       "      <td>0.555712</td>\n",
       "    </tr>\n",
       "  </tbody>\n",
       "</table>\n",
       "</div>"
      ],
      "text/plain": [
       "                   id                  timestamp  \\\n",
       "0  892420643555336193  2017-08-01 16:23:56 +0000   \n",
       "1  892177421306343426  2017-08-01 00:17:27 +0000   \n",
       "2  891815181378084864  2017-07-31 00:18:03 +0000   \n",
       "3  891689557279858688  2017-07-30 15:58:51 +0000   \n",
       "4  891327558926688256  2017-07-29 16:00:24 +0000   \n",
       "\n",
       "                                                text  rating_numerator  \\\n",
       "0  This is Phineas. He's a mystical boy. Only eve...                13   \n",
       "1  This is Tilly. She's just checking pup on you....                13   \n",
       "2  This is Archie. He is a rare Norwegian Pouncin...                12   \n",
       "3  This is Darla. She commenced a snooze mid meal...                13   \n",
       "4  This is Franklin. He would like you to stop ca...                12   \n",
       "\n",
       "   rating_denominator      name stage  retweet_count  favorite_count  img_num  \\\n",
       "0                  10   Phineas   NaN         8853.0         39467.0      1.0   \n",
       "1                  10     Tilly   NaN         6514.0         33819.0      1.0   \n",
       "2                  10    Archie   NaN         4328.0         25461.0      1.0   \n",
       "3                  10     Darla   NaN         8964.0         42908.0      1.0   \n",
       "4                  10  Franklin   NaN         9774.0         41048.0      2.0   \n",
       "\n",
       "            p1   p1_conf  \n",
       "0       orange  0.097049  \n",
       "1    Chihuahua  0.323581  \n",
       "2    Chihuahua  0.716012  \n",
       "3  paper_towel  0.170278  \n",
       "4       basset  0.555712  "
      ]
     },
     "execution_count": 69,
     "metadata": {},
     "output_type": "execute_result"
    }
   ],
   "source": [
    "# test\n",
    "df_total.head()"
   ]
  },
  {
   "cell_type": "markdown",
   "metadata": {},
   "source": [
    "**Define & Code**\n",
    "#### Fix the wrong 'rating_numerator' values"
   ]
  },
  {
   "cell_type": "code",
   "execution_count": 70,
   "metadata": {},
   "outputs": [
    {
     "data": {
      "text/plain": [
       "12      486\n",
       "10      436\n",
       "11      413\n",
       "13      287\n",
       "9       153\n",
       "8        98\n",
       "7        52\n",
       "14       38\n",
       "5        34\n",
       "6        32\n",
       "3        19\n",
       "4        16\n",
       "2         9\n",
       "1         5\n",
       "26        1\n",
       "44        1\n",
       "165       1\n",
       "24        1\n",
       "60        1\n",
       "50        1\n",
       "144       1\n",
       "80        1\n",
       "84        1\n",
       "88        1\n",
       "121       1\n",
       "204       1\n",
       "420       1\n",
       "1776      1\n",
       "27        1\n",
       "45        1\n",
       "75        1\n",
       "99        1\n",
       "0         1\n",
       "Name: rating_numerator, dtype: int64"
      ]
     },
     "execution_count": 70,
     "metadata": {},
     "output_type": "execute_result"
    }
   ],
   "source": [
    "df_total['rating_numerator'].value_counts()\n",
    "# numerator of [0,1,2,3] are very unlikely. We should further look into it."
   ]
  },
  {
   "cell_type": "code",
   "execution_count": 71,
   "metadata": {},
   "outputs": [
    {
     "data": {
      "text/html": [
       "<div>\n",
       "<style scoped>\n",
       "    .dataframe tbody tr th:only-of-type {\n",
       "        vertical-align: middle;\n",
       "    }\n",
       "\n",
       "    .dataframe tbody tr th {\n",
       "        vertical-align: top;\n",
       "    }\n",
       "\n",
       "    .dataframe thead th {\n",
       "        text-align: right;\n",
       "    }\n",
       "</style>\n",
       "<table border=\"1\" class=\"dataframe\">\n",
       "  <thead>\n",
       "    <tr style=\"text-align: right;\">\n",
       "      <th></th>\n",
       "      <th>id</th>\n",
       "      <th>timestamp</th>\n",
       "      <th>text</th>\n",
       "      <th>rating_numerator</th>\n",
       "      <th>rating_denominator</th>\n",
       "      <th>name</th>\n",
       "      <th>stage</th>\n",
       "      <th>retweet_count</th>\n",
       "      <th>favorite_count</th>\n",
       "      <th>img_num</th>\n",
       "      <th>p1</th>\n",
       "      <th>p1_conf</th>\n",
       "    </tr>\n",
       "  </thead>\n",
       "  <tbody>\n",
       "    <tr>\n",
       "      <th>315</th>\n",
       "      <td>835152434251116546</td>\n",
       "      <td>2017-02-24 15:40:31 +0000</td>\n",
       "      <td>When you're so blinded by your systematic plag...</td>\n",
       "      <td>0</td>\n",
       "      <td>10</td>\n",
       "      <td>None</td>\n",
       "      <td>NaN</td>\n",
       "      <td>3443.0</td>\n",
       "      <td>24574.0</td>\n",
       "      <td>3.0</td>\n",
       "      <td>swing</td>\n",
       "      <td>0.967066</td>\n",
       "    </tr>\n",
       "    <tr>\n",
       "      <th>765</th>\n",
       "      <td>777885040357281792</td>\n",
       "      <td>2016-09-19 15:00:20 +0000</td>\n",
       "      <td>This is Wesley. He's clearly trespassing. Seem...</td>\n",
       "      <td>3</td>\n",
       "      <td>10</td>\n",
       "      <td>Wesley</td>\n",
       "      <td>NaN</td>\n",
       "      <td>1893.0</td>\n",
       "      <td>7078.0</td>\n",
       "      <td>1.0</td>\n",
       "      <td>Afghan_hound</td>\n",
       "      <td>0.123529</td>\n",
       "    </tr>\n",
       "    <tr>\n",
       "      <th>1189</th>\n",
       "      <td>718246886998687744</td>\n",
       "      <td>2016-04-08 01:19:36 +0000</td>\n",
       "      <td>This is Alexanderson. He's got a weird ass bir...</td>\n",
       "      <td>3</td>\n",
       "      <td>10</td>\n",
       "      <td>Alexanderson</td>\n",
       "      <td>NaN</td>\n",
       "      <td>565.0</td>\n",
       "      <td>2115.0</td>\n",
       "      <td>1.0</td>\n",
       "      <td>Chihuahua</td>\n",
       "      <td>0.354488</td>\n",
       "    </tr>\n",
       "    <tr>\n",
       "      <th>1249</th>\n",
       "      <td>711306686208872448</td>\n",
       "      <td>2016-03-19 21:41:44 +0000</td>\n",
       "      <td>What hooligan sent in pictures w/out a dog in ...</td>\n",
       "      <td>3</td>\n",
       "      <td>10</td>\n",
       "      <td>None</td>\n",
       "      <td>NaN</td>\n",
       "      <td>819.0</td>\n",
       "      <td>3596.0</td>\n",
       "      <td>1.0</td>\n",
       "      <td>leatherback_turtle</td>\n",
       "      <td>0.280835</td>\n",
       "    </tr>\n",
       "    <tr>\n",
       "      <th>1314</th>\n",
       "      <td>706901761596989440</td>\n",
       "      <td>2016-03-07 17:58:08 +0000</td>\n",
       "      <td>This is Elliot. He's blocking the roadway. Dow...</td>\n",
       "      <td>3</td>\n",
       "      <td>10</td>\n",
       "      <td>Elliot</td>\n",
       "      <td>NaN</td>\n",
       "      <td>680.0</td>\n",
       "      <td>2264.0</td>\n",
       "      <td>1.0</td>\n",
       "      <td>wild_boar</td>\n",
       "      <td>0.859499</td>\n",
       "    </tr>\n",
       "    <tr>\n",
       "      <th>1406</th>\n",
       "      <td>699088579889332224</td>\n",
       "      <td>2016-02-15 04:31:20 +0000</td>\n",
       "      <td>This is Charl. He's a bully. Chucks that dumbb...</td>\n",
       "      <td>3</td>\n",
       "      <td>10</td>\n",
       "      <td>Charl</td>\n",
       "      <td>NaN</td>\n",
       "      <td>715.0</td>\n",
       "      <td>2451.0</td>\n",
       "      <td>1.0</td>\n",
       "      <td>mousetrap</td>\n",
       "      <td>0.456186</td>\n",
       "    </tr>\n",
       "    <tr>\n",
       "      <th>1478</th>\n",
       "      <td>693590843962331137</td>\n",
       "      <td>2016-01-31 00:25:18 +0000</td>\n",
       "      <td>Meet Phil. He's big af. Currently destroying t...</td>\n",
       "      <td>3</td>\n",
       "      <td>10</td>\n",
       "      <td>Phil</td>\n",
       "      <td>pupper</td>\n",
       "      <td>2233.0</td>\n",
       "      <td>5565.0</td>\n",
       "      <td>1.0</td>\n",
       "      <td>dining_table</td>\n",
       "      <td>0.383448</td>\n",
       "    </tr>\n",
       "    <tr>\n",
       "      <th>1601</th>\n",
       "      <td>686003207160610816</td>\n",
       "      <td>2016-01-10 01:54:44 +0000</td>\n",
       "      <td>This is Hammond. He's a peculiar pup. Loves lo...</td>\n",
       "      <td>3</td>\n",
       "      <td>10</td>\n",
       "      <td>Hammond</td>\n",
       "      <td>NaN</td>\n",
       "      <td>735.0</td>\n",
       "      <td>2009.0</td>\n",
       "      <td>1.0</td>\n",
       "      <td>damselfly</td>\n",
       "      <td>0.190786</td>\n",
       "    </tr>\n",
       "    <tr>\n",
       "      <th>1692</th>\n",
       "      <td>681302363064414209</td>\n",
       "      <td>2015-12-28 02:35:15 +0000</td>\n",
       "      <td>This is Chuck. He's a neat dog. Very flexible....</td>\n",
       "      <td>3</td>\n",
       "      <td>10</td>\n",
       "      <td>Chuck</td>\n",
       "      <td>NaN</td>\n",
       "      <td>2072.0</td>\n",
       "      <td>4347.0</td>\n",
       "      <td>1.0</td>\n",
       "      <td>frilled_lizard</td>\n",
       "      <td>0.326259</td>\n",
       "    </tr>\n",
       "    <tr>\n",
       "      <th>1761</th>\n",
       "      <td>678675843183484930</td>\n",
       "      <td>2015-12-20 20:38:24 +0000</td>\n",
       "      <td>Exotic pup here. Tail long af. Throat looks sw...</td>\n",
       "      <td>2</td>\n",
       "      <td>10</td>\n",
       "      <td>None</td>\n",
       "      <td>NaN</td>\n",
       "      <td>1680.0</td>\n",
       "      <td>3155.0</td>\n",
       "      <td>1.0</td>\n",
       "      <td>maze</td>\n",
       "      <td>0.339850</td>\n",
       "    </tr>\n",
       "    <tr>\n",
       "      <th>1764</th>\n",
       "      <td>678424312106393600</td>\n",
       "      <td>2015-12-20 03:58:55 +0000</td>\n",
       "      <td>This is Crystal. She's a shitty fireman. No se...</td>\n",
       "      <td>2</td>\n",
       "      <td>10</td>\n",
       "      <td>Crystal</td>\n",
       "      <td>NaN</td>\n",
       "      <td>2880.0</td>\n",
       "      <td>5916.0</td>\n",
       "      <td>1.0</td>\n",
       "      <td>Maltese_dog</td>\n",
       "      <td>0.759945</td>\n",
       "    </tr>\n",
       "    <tr>\n",
       "      <th>1836</th>\n",
       "      <td>676098748976615425</td>\n",
       "      <td>2015-12-13 17:57:57 +0000</td>\n",
       "      <td>Extremely rare pup here. Very religious. Alway...</td>\n",
       "      <td>3</td>\n",
       "      <td>10</td>\n",
       "      <td>None</td>\n",
       "      <td>NaN</td>\n",
       "      <td>1623.0</td>\n",
       "      <td>3279.0</td>\n",
       "      <td>1.0</td>\n",
       "      <td>walking_stick</td>\n",
       "      <td>0.162179</td>\n",
       "    </tr>\n",
       "    <tr>\n",
       "      <th>1869</th>\n",
       "      <td>675153376133427200</td>\n",
       "      <td>2015-12-11 03:21:23 +0000</td>\n",
       "      <td>What kind of person sends in a picture without...</td>\n",
       "      <td>1</td>\n",
       "      <td>10</td>\n",
       "      <td>None</td>\n",
       "      <td>NaN</td>\n",
       "      <td>2734.0</td>\n",
       "      <td>6072.0</td>\n",
       "      <td>1.0</td>\n",
       "      <td>paper_towel</td>\n",
       "      <td>0.327957</td>\n",
       "    </tr>\n",
       "    <tr>\n",
       "      <th>1898</th>\n",
       "      <td>674690135443775488</td>\n",
       "      <td>2015-12-09 20:40:38 +0000</td>\n",
       "      <td>Meet Patrick. He's an exotic pup. Jumps great ...</td>\n",
       "      <td>3</td>\n",
       "      <td>10</td>\n",
       "      <td>Patrick</td>\n",
       "      <td>NaN</td>\n",
       "      <td>510.0</td>\n",
       "      <td>1237.0</td>\n",
       "      <td>1.0</td>\n",
       "      <td>tick</td>\n",
       "      <td>0.242538</td>\n",
       "    </tr>\n",
       "    <tr>\n",
       "      <th>1920</th>\n",
       "      <td>674265582246694913</td>\n",
       "      <td>2015-12-08 16:33:36 +0000</td>\n",
       "      <td>This is Henry. He's a shit dog. Short pointy e...</td>\n",
       "      <td>2</td>\n",
       "      <td>10</td>\n",
       "      <td>Henry</td>\n",
       "      <td>NaN</td>\n",
       "      <td>936.0</td>\n",
       "      <td>1766.0</td>\n",
       "      <td>1.0</td>\n",
       "      <td>slug</td>\n",
       "      <td>0.998075</td>\n",
       "    </tr>\n",
       "    <tr>\n",
       "      <th>1928</th>\n",
       "      <td>674045139690631169</td>\n",
       "      <td>2015-12-08 01:57:39 +0000</td>\n",
       "      <td>Herd of wild dogs here. Not sure what they're ...</td>\n",
       "      <td>3</td>\n",
       "      <td>10</td>\n",
       "      <td>None</td>\n",
       "      <td>NaN</td>\n",
       "      <td>710.0</td>\n",
       "      <td>1520.0</td>\n",
       "      <td>1.0</td>\n",
       "      <td>robin</td>\n",
       "      <td>0.369661</td>\n",
       "    </tr>\n",
       "    <tr>\n",
       "      <th>1938</th>\n",
       "      <td>673906403526995968</td>\n",
       "      <td>2015-12-07 16:46:21 +0000</td>\n",
       "      <td>Guys I'm getting real tired of this. We only r...</td>\n",
       "      <td>3</td>\n",
       "      <td>10</td>\n",
       "      <td>None</td>\n",
       "      <td>NaN</td>\n",
       "      <td>1799.0</td>\n",
       "      <td>3406.0</td>\n",
       "      <td>1.0</td>\n",
       "      <td>toilet_seat</td>\n",
       "      <td>0.683319</td>\n",
       "    </tr>\n",
       "    <tr>\n",
       "      <th>1947</th>\n",
       "      <td>673700254269775872</td>\n",
       "      <td>2015-12-07 03:07:12 +0000</td>\n",
       "      <td>Large blue dog here. Cool shades. Flipping us ...</td>\n",
       "      <td>3</td>\n",
       "      <td>10</td>\n",
       "      <td>None</td>\n",
       "      <td>NaN</td>\n",
       "      <td>638.0</td>\n",
       "      <td>1532.0</td>\n",
       "      <td>1.0</td>\n",
       "      <td>water_bottle</td>\n",
       "      <td>0.614536</td>\n",
       "    </tr>\n",
       "    <tr>\n",
       "      <th>2079</th>\n",
       "      <td>670826280409919488</td>\n",
       "      <td>2015-11-29 04:47:03 +0000</td>\n",
       "      <td>Scary dog here. Too many legs. Extra tail. Not...</td>\n",
       "      <td>2</td>\n",
       "      <td>10</td>\n",
       "      <td>None</td>\n",
       "      <td>NaN</td>\n",
       "      <td>4485.0</td>\n",
       "      <td>5961.0</td>\n",
       "      <td>1.0</td>\n",
       "      <td>scorpion</td>\n",
       "      <td>0.927956</td>\n",
       "    </tr>\n",
       "    <tr>\n",
       "      <th>2091</th>\n",
       "      <td>670783437142401025</td>\n",
       "      <td>2015-11-29 01:56:48 +0000</td>\n",
       "      <td>Flamboyant pup here. Probably poisonous. Won't...</td>\n",
       "      <td>1</td>\n",
       "      <td>10</td>\n",
       "      <td>None</td>\n",
       "      <td>NaN</td>\n",
       "      <td>431.0</td>\n",
       "      <td>872.0</td>\n",
       "      <td>1.0</td>\n",
       "      <td>lacewing</td>\n",
       "      <td>0.381955</td>\n",
       "    </tr>\n",
       "    <tr>\n",
       "      <th>2136</th>\n",
       "      <td>670055038660800512</td>\n",
       "      <td>2015-11-27 01:42:24 +0000</td>\n",
       "      <td>This is Tommy. He's a cool dog. Hard not to st...</td>\n",
       "      <td>3</td>\n",
       "      <td>10</td>\n",
       "      <td>Tommy</td>\n",
       "      <td>NaN</td>\n",
       "      <td>357.0</td>\n",
       "      <td>716.0</td>\n",
       "      <td>1.0</td>\n",
       "      <td>snail</td>\n",
       "      <td>0.563631</td>\n",
       "    </tr>\n",
       "    <tr>\n",
       "      <th>2183</th>\n",
       "      <td>668989615043424256</td>\n",
       "      <td>2015-11-24 03:08:48 +0000</td>\n",
       "      <td>This is Bernie. He's taking his Halloween cost...</td>\n",
       "      <td>3</td>\n",
       "      <td>10</td>\n",
       "      <td>Bernie</td>\n",
       "      <td>NaN</td>\n",
       "      <td>356.0</td>\n",
       "      <td>726.0</td>\n",
       "      <td>1.0</td>\n",
       "      <td>pug</td>\n",
       "      <td>0.917326</td>\n",
       "    </tr>\n",
       "    <tr>\n",
       "      <th>2202</th>\n",
       "      <td>668643542311546881</td>\n",
       "      <td>2015-11-23 04:13:37 +0000</td>\n",
       "      <td>Fascinating dog here. Loves beach. Oddly long ...</td>\n",
       "      <td>3</td>\n",
       "      <td>10</td>\n",
       "      <td>None</td>\n",
       "      <td>NaN</td>\n",
       "      <td>576.0</td>\n",
       "      <td>939.0</td>\n",
       "      <td>1.0</td>\n",
       "      <td>common_iguana</td>\n",
       "      <td>0.483972</td>\n",
       "    </tr>\n",
       "    <tr>\n",
       "      <th>2237</th>\n",
       "      <td>668142349051129856</td>\n",
       "      <td>2015-11-21 19:02:04 +0000</td>\n",
       "      <td>This lil pup is Oliver. Hops around. Has wings...</td>\n",
       "      <td>2</td>\n",
       "      <td>10</td>\n",
       "      <td>None</td>\n",
       "      <td>NaN</td>\n",
       "      <td>306.0</td>\n",
       "      <td>592.0</td>\n",
       "      <td>1.0</td>\n",
       "      <td>Angora</td>\n",
       "      <td>0.918834</td>\n",
       "    </tr>\n",
       "    <tr>\n",
       "      <th>2239</th>\n",
       "      <td>667937095915278337</td>\n",
       "      <td>2015-11-21 05:26:27 +0000</td>\n",
       "      <td>This dog resembles a baked potato. Bed looks u...</td>\n",
       "      <td>3</td>\n",
       "      <td>10</td>\n",
       "      <td>None</td>\n",
       "      <td>NaN</td>\n",
       "      <td>866.0</td>\n",
       "      <td>1356.0</td>\n",
       "      <td>1.0</td>\n",
       "      <td>hamster</td>\n",
       "      <td>0.172078</td>\n",
       "    </tr>\n",
       "    <tr>\n",
       "      <th>2246</th>\n",
       "      <td>667878741721415682</td>\n",
       "      <td>2015-11-21 01:34:35 +0000</td>\n",
       "      <td>This is Tedrick. He lives on the edge. Needs s...</td>\n",
       "      <td>2</td>\n",
       "      <td>10</td>\n",
       "      <td>Tedrick</td>\n",
       "      <td>NaN</td>\n",
       "      <td>127.0</td>\n",
       "      <td>409.0</td>\n",
       "      <td>1.0</td>\n",
       "      <td>seat_belt</td>\n",
       "      <td>0.200373</td>\n",
       "    </tr>\n",
       "    <tr>\n",
       "      <th>2261</th>\n",
       "      <td>667549055577362432</td>\n",
       "      <td>2015-11-20 03:44:31 +0000</td>\n",
       "      <td>Never seen dog like this. Breathes heavy. Tilt...</td>\n",
       "      <td>1</td>\n",
       "      <td>10</td>\n",
       "      <td>None</td>\n",
       "      <td>NaN</td>\n",
       "      <td>2454.0</td>\n",
       "      <td>6138.0</td>\n",
       "      <td>1.0</td>\n",
       "      <td>electric_fan</td>\n",
       "      <td>0.984377</td>\n",
       "    </tr>\n",
       "    <tr>\n",
       "      <th>2305</th>\n",
       "      <td>666837028449972224</td>\n",
       "      <td>2015-11-18 04:35:11 +0000</td>\n",
       "      <td>My goodness. Very rare dog here. Large. Tail d...</td>\n",
       "      <td>3</td>\n",
       "      <td>10</td>\n",
       "      <td>None</td>\n",
       "      <td>NaN</td>\n",
       "      <td>584.0</td>\n",
       "      <td>857.0</td>\n",
       "      <td>1.0</td>\n",
       "      <td>triceratops</td>\n",
       "      <td>0.442113</td>\n",
       "    </tr>\n",
       "    <tr>\n",
       "      <th>2310</th>\n",
       "      <td>666786068205871104</td>\n",
       "      <td>2015-11-18 01:12:41 +0000</td>\n",
       "      <td>Unfamiliar with this breed. Ears pointy af. Wo...</td>\n",
       "      <td>2</td>\n",
       "      <td>10</td>\n",
       "      <td>None</td>\n",
       "      <td>NaN</td>\n",
       "      <td>521.0</td>\n",
       "      <td>800.0</td>\n",
       "      <td>1.0</td>\n",
       "      <td>snail</td>\n",
       "      <td>0.999888</td>\n",
       "    </tr>\n",
       "    <tr>\n",
       "      <th>2326</th>\n",
       "      <td>666411507551481857</td>\n",
       "      <td>2015-11-17 00:24:19 +0000</td>\n",
       "      <td>This is quite the dog. Gets really excited whe...</td>\n",
       "      <td>2</td>\n",
       "      <td>10</td>\n",
       "      <td>quite</td>\n",
       "      <td>NaN</td>\n",
       "      <td>339.0</td>\n",
       "      <td>459.0</td>\n",
       "      <td>1.0</td>\n",
       "      <td>coho</td>\n",
       "      <td>0.404640</td>\n",
       "    </tr>\n",
       "    <tr>\n",
       "      <th>2334</th>\n",
       "      <td>666293911632134144</td>\n",
       "      <td>2015-11-16 16:37:02 +0000</td>\n",
       "      <td>This is a funny dog. Weird toes. Won't come do...</td>\n",
       "      <td>3</td>\n",
       "      <td>10</td>\n",
       "      <td>a</td>\n",
       "      <td>NaN</td>\n",
       "      <td>368.0</td>\n",
       "      <td>522.0</td>\n",
       "      <td>1.0</td>\n",
       "      <td>three-toed_sloth</td>\n",
       "      <td>0.914671</td>\n",
       "    </tr>\n",
       "    <tr>\n",
       "      <th>2335</th>\n",
       "      <td>666287406224695296</td>\n",
       "      <td>2015-11-16 16:11:11 +0000</td>\n",
       "      <td>This is an Albanian 3 1/2 legged  Episcopalian...</td>\n",
       "      <td>1</td>\n",
       "      <td>2</td>\n",
       "      <td>an</td>\n",
       "      <td>NaN</td>\n",
       "      <td>71.0</td>\n",
       "      <td>152.0</td>\n",
       "      <td>1.0</td>\n",
       "      <td>Maltese_dog</td>\n",
       "      <td>0.857531</td>\n",
       "    </tr>\n",
       "    <tr>\n",
       "      <th>2338</th>\n",
       "      <td>666104133288665088</td>\n",
       "      <td>2015-11-16 04:02:55 +0000</td>\n",
       "      <td>Not familiar with this breed. No tail (weird)....</td>\n",
       "      <td>1</td>\n",
       "      <td>10</td>\n",
       "      <td>None</td>\n",
       "      <td>NaN</td>\n",
       "      <td>6871.0</td>\n",
       "      <td>14765.0</td>\n",
       "      <td>1.0</td>\n",
       "      <td>hen</td>\n",
       "      <td>0.965932</td>\n",
       "    </tr>\n",
       "    <tr>\n",
       "      <th>2349</th>\n",
       "      <td>666051853826850816</td>\n",
       "      <td>2015-11-16 00:35:11 +0000</td>\n",
       "      <td>This is an odd dog. Hard on the outside but lo...</td>\n",
       "      <td>2</td>\n",
       "      <td>10</td>\n",
       "      <td>an</td>\n",
       "      <td>NaN</td>\n",
       "      <td>879.0</td>\n",
       "      <td>1253.0</td>\n",
       "      <td>1.0</td>\n",
       "      <td>box_turtle</td>\n",
       "      <td>0.933012</td>\n",
       "    </tr>\n",
       "  </tbody>\n",
       "</table>\n",
       "</div>"
      ],
      "text/plain": [
       "                      id                  timestamp  \\\n",
       "315   835152434251116546  2017-02-24 15:40:31 +0000   \n",
       "765   777885040357281792  2016-09-19 15:00:20 +0000   \n",
       "1189  718246886998687744  2016-04-08 01:19:36 +0000   \n",
       "1249  711306686208872448  2016-03-19 21:41:44 +0000   \n",
       "1314  706901761596989440  2016-03-07 17:58:08 +0000   \n",
       "1406  699088579889332224  2016-02-15 04:31:20 +0000   \n",
       "1478  693590843962331137  2016-01-31 00:25:18 +0000   \n",
       "1601  686003207160610816  2016-01-10 01:54:44 +0000   \n",
       "1692  681302363064414209  2015-12-28 02:35:15 +0000   \n",
       "1761  678675843183484930  2015-12-20 20:38:24 +0000   \n",
       "1764  678424312106393600  2015-12-20 03:58:55 +0000   \n",
       "1836  676098748976615425  2015-12-13 17:57:57 +0000   \n",
       "1869  675153376133427200  2015-12-11 03:21:23 +0000   \n",
       "1898  674690135443775488  2015-12-09 20:40:38 +0000   \n",
       "1920  674265582246694913  2015-12-08 16:33:36 +0000   \n",
       "1928  674045139690631169  2015-12-08 01:57:39 +0000   \n",
       "1938  673906403526995968  2015-12-07 16:46:21 +0000   \n",
       "1947  673700254269775872  2015-12-07 03:07:12 +0000   \n",
       "2079  670826280409919488  2015-11-29 04:47:03 +0000   \n",
       "2091  670783437142401025  2015-11-29 01:56:48 +0000   \n",
       "2136  670055038660800512  2015-11-27 01:42:24 +0000   \n",
       "2183  668989615043424256  2015-11-24 03:08:48 +0000   \n",
       "2202  668643542311546881  2015-11-23 04:13:37 +0000   \n",
       "2237  668142349051129856  2015-11-21 19:02:04 +0000   \n",
       "2239  667937095915278337  2015-11-21 05:26:27 +0000   \n",
       "2246  667878741721415682  2015-11-21 01:34:35 +0000   \n",
       "2261  667549055577362432  2015-11-20 03:44:31 +0000   \n",
       "2305  666837028449972224  2015-11-18 04:35:11 +0000   \n",
       "2310  666786068205871104  2015-11-18 01:12:41 +0000   \n",
       "2326  666411507551481857  2015-11-17 00:24:19 +0000   \n",
       "2334  666293911632134144  2015-11-16 16:37:02 +0000   \n",
       "2335  666287406224695296  2015-11-16 16:11:11 +0000   \n",
       "2338  666104133288665088  2015-11-16 04:02:55 +0000   \n",
       "2349  666051853826850816  2015-11-16 00:35:11 +0000   \n",
       "\n",
       "                                                   text  rating_numerator  \\\n",
       "315   When you're so blinded by your systematic plag...                 0   \n",
       "765   This is Wesley. He's clearly trespassing. Seem...                 3   \n",
       "1189  This is Alexanderson. He's got a weird ass bir...                 3   \n",
       "1249  What hooligan sent in pictures w/out a dog in ...                 3   \n",
       "1314  This is Elliot. He's blocking the roadway. Dow...                 3   \n",
       "1406  This is Charl. He's a bully. Chucks that dumbb...                 3   \n",
       "1478  Meet Phil. He's big af. Currently destroying t...                 3   \n",
       "1601  This is Hammond. He's a peculiar pup. Loves lo...                 3   \n",
       "1692  This is Chuck. He's a neat dog. Very flexible....                 3   \n",
       "1761  Exotic pup here. Tail long af. Throat looks sw...                 2   \n",
       "1764  This is Crystal. She's a shitty fireman. No se...                 2   \n",
       "1836  Extremely rare pup here. Very religious. Alway...                 3   \n",
       "1869  What kind of person sends in a picture without...                 1   \n",
       "1898  Meet Patrick. He's an exotic pup. Jumps great ...                 3   \n",
       "1920  This is Henry. He's a shit dog. Short pointy e...                 2   \n",
       "1928  Herd of wild dogs here. Not sure what they're ...                 3   \n",
       "1938  Guys I'm getting real tired of this. We only r...                 3   \n",
       "1947  Large blue dog here. Cool shades. Flipping us ...                 3   \n",
       "2079  Scary dog here. Too many legs. Extra tail. Not...                 2   \n",
       "2091  Flamboyant pup here. Probably poisonous. Won't...                 1   \n",
       "2136  This is Tommy. He's a cool dog. Hard not to st...                 3   \n",
       "2183  This is Bernie. He's taking his Halloween cost...                 3   \n",
       "2202  Fascinating dog here. Loves beach. Oddly long ...                 3   \n",
       "2237  This lil pup is Oliver. Hops around. Has wings...                 2   \n",
       "2239  This dog resembles a baked potato. Bed looks u...                 3   \n",
       "2246  This is Tedrick. He lives on the edge. Needs s...                 2   \n",
       "2261  Never seen dog like this. Breathes heavy. Tilt...                 1   \n",
       "2305  My goodness. Very rare dog here. Large. Tail d...                 3   \n",
       "2310  Unfamiliar with this breed. Ears pointy af. Wo...                 2   \n",
       "2326  This is quite the dog. Gets really excited whe...                 2   \n",
       "2334  This is a funny dog. Weird toes. Won't come do...                 3   \n",
       "2335  This is an Albanian 3 1/2 legged  Episcopalian...                 1   \n",
       "2338  Not familiar with this breed. No tail (weird)....                 1   \n",
       "2349  This is an odd dog. Hard on the outside but lo...                 2   \n",
       "\n",
       "      rating_denominator          name   stage  retweet_count  favorite_count  \\\n",
       "315                   10          None     NaN         3443.0         24574.0   \n",
       "765                   10        Wesley     NaN         1893.0          7078.0   \n",
       "1189                  10  Alexanderson     NaN          565.0          2115.0   \n",
       "1249                  10          None     NaN          819.0          3596.0   \n",
       "1314                  10        Elliot     NaN          680.0          2264.0   \n",
       "1406                  10         Charl     NaN          715.0          2451.0   \n",
       "1478                  10          Phil  pupper         2233.0          5565.0   \n",
       "1601                  10       Hammond     NaN          735.0          2009.0   \n",
       "1692                  10         Chuck     NaN         2072.0          4347.0   \n",
       "1761                  10          None     NaN         1680.0          3155.0   \n",
       "1764                  10       Crystal     NaN         2880.0          5916.0   \n",
       "1836                  10          None     NaN         1623.0          3279.0   \n",
       "1869                  10          None     NaN         2734.0          6072.0   \n",
       "1898                  10       Patrick     NaN          510.0          1237.0   \n",
       "1920                  10         Henry     NaN          936.0          1766.0   \n",
       "1928                  10          None     NaN          710.0          1520.0   \n",
       "1938                  10          None     NaN         1799.0          3406.0   \n",
       "1947                  10          None     NaN          638.0          1532.0   \n",
       "2079                  10          None     NaN         4485.0          5961.0   \n",
       "2091                  10          None     NaN          431.0           872.0   \n",
       "2136                  10         Tommy     NaN          357.0           716.0   \n",
       "2183                  10        Bernie     NaN          356.0           726.0   \n",
       "2202                  10          None     NaN          576.0           939.0   \n",
       "2237                  10          None     NaN          306.0           592.0   \n",
       "2239                  10          None     NaN          866.0          1356.0   \n",
       "2246                  10       Tedrick     NaN          127.0           409.0   \n",
       "2261                  10          None     NaN         2454.0          6138.0   \n",
       "2305                  10          None     NaN          584.0           857.0   \n",
       "2310                  10          None     NaN          521.0           800.0   \n",
       "2326                  10         quite     NaN          339.0           459.0   \n",
       "2334                  10             a     NaN          368.0           522.0   \n",
       "2335                   2            an     NaN           71.0           152.0   \n",
       "2338                  10          None     NaN         6871.0         14765.0   \n",
       "2349                  10            an     NaN          879.0          1253.0   \n",
       "\n",
       "      img_num                  p1   p1_conf  \n",
       "315       3.0               swing  0.967066  \n",
       "765       1.0        Afghan_hound  0.123529  \n",
       "1189      1.0           Chihuahua  0.354488  \n",
       "1249      1.0  leatherback_turtle  0.280835  \n",
       "1314      1.0           wild_boar  0.859499  \n",
       "1406      1.0           mousetrap  0.456186  \n",
       "1478      1.0        dining_table  0.383448  \n",
       "1601      1.0           damselfly  0.190786  \n",
       "1692      1.0      frilled_lizard  0.326259  \n",
       "1761      1.0                maze  0.339850  \n",
       "1764      1.0         Maltese_dog  0.759945  \n",
       "1836      1.0       walking_stick  0.162179  \n",
       "1869      1.0         paper_towel  0.327957  \n",
       "1898      1.0                tick  0.242538  \n",
       "1920      1.0                slug  0.998075  \n",
       "1928      1.0               robin  0.369661  \n",
       "1938      1.0         toilet_seat  0.683319  \n",
       "1947      1.0        water_bottle  0.614536  \n",
       "2079      1.0            scorpion  0.927956  \n",
       "2091      1.0            lacewing  0.381955  \n",
       "2136      1.0               snail  0.563631  \n",
       "2183      1.0                 pug  0.917326  \n",
       "2202      1.0       common_iguana  0.483972  \n",
       "2237      1.0              Angora  0.918834  \n",
       "2239      1.0             hamster  0.172078  \n",
       "2246      1.0           seat_belt  0.200373  \n",
       "2261      1.0        electric_fan  0.984377  \n",
       "2305      1.0         triceratops  0.442113  \n",
       "2310      1.0               snail  0.999888  \n",
       "2326      1.0                coho  0.404640  \n",
       "2334      1.0    three-toed_sloth  0.914671  \n",
       "2335      1.0         Maltese_dog  0.857531  \n",
       "2338      1.0                 hen  0.965932  \n",
       "2349      1.0          box_turtle  0.933012  "
      ]
     },
     "execution_count": 71,
     "metadata": {},
     "output_type": "execute_result"
    }
   ],
   "source": [
    "df_total.query('rating_numerator in [0,1,2,3]')"
   ]
  },
  {
   "cell_type": "code",
   "execution_count": 72,
   "metadata": {},
   "outputs": [
    {
     "data": {
      "text/plain": [
       "(12       486\n",
       " 10       436\n",
       " 11       413\n",
       " 13       287\n",
       " 9        153\n",
       " 8         98\n",
       " 7         52\n",
       " 14        38\n",
       " 5         33\n",
       " 6         32\n",
       " 3         19\n",
       " 4         16\n",
       " 2          9\n",
       " 1          5\n",
       " 80         1\n",
       " 1776       1\n",
       " 13.5       1\n",
       " 84         1\n",
       " 60         1\n",
       " 11.27      1\n",
       " 11.26      1\n",
       " 420        1\n",
       " 99         1\n",
       " 0          1\n",
       " 144        1\n",
       " 50         1\n",
       " 121        1\n",
       " 44         1\n",
       " 204        1\n",
       " 165        1\n",
       " 9.75       1\n",
       " 88         1\n",
       " 24         1\n",
       " 45         1\n",
       " Name: 0, dtype: int64,\n",
       " 10     2080\n",
       " 50        3\n",
       " 80        2\n",
       " 11        2\n",
       " 90        1\n",
       " 170       1\n",
       " 70        1\n",
       " 2         1\n",
       " 110       1\n",
       " 120       1\n",
       " 40        1\n",
       " 7         1\n",
       " 20        1\n",
       " 150       1\n",
       " Name: 1, dtype: int64)"
      ]
     },
     "execution_count": 72,
     "metadata": {},
     "output_type": "execute_result"
    }
   ],
   "source": [
    "# it can be found that row with index='1714' are wronly recorded. It should be 11.26/10\n",
    "# We can use Regular Expression to correctly extract the data\n",
    "\n",
    "# Extract numerator and denominator (including decimal pts) from 'text' column\n",
    "ratings = df_total['text'].str.extract('((?:\\d+\\.)?\\d+)\\/(\\d+(\\.\\d+)?)', expand=True)\n",
    "\n",
    "# Only numerator values have decimal pts\n",
    "ratings[0].value_counts(), ratings[1].value_counts()"
   ]
  },
  {
   "cell_type": "code",
   "execution_count": 73,
   "metadata": {},
   "outputs": [],
   "source": [
    "# Change datatypes from 'string' to 'float' beforehand\n",
    "ratings[0] = ratings[0].astype('float64')\n",
    "\n",
    "# Replace numerator and denominator values into newly extracted values\n",
    "df_total['rating_numerator'] = ratings[0]"
   ]
  },
  {
   "cell_type": "markdown",
   "metadata": {},
   "source": [
    "**Test**"
   ]
  },
  {
   "cell_type": "code",
   "execution_count": 74,
   "metadata": {},
   "outputs": [
    {
     "data": {
      "text/plain": [
       "12.00      486\n",
       "10.00      436\n",
       "11.00      413\n",
       "13.00      287\n",
       "9.00       153\n",
       "8.00        98\n",
       "7.00        52\n",
       "14.00       38\n",
       "5.00        33\n",
       "6.00        32\n",
       "3.00        19\n",
       "4.00        16\n",
       "2.00         9\n",
       "1.00         5\n",
       "13.50        1\n",
       "0.00         1\n",
       "24.00        1\n",
       "84.00        1\n",
       "420.00       1\n",
       "1776.00      1\n",
       "80.00        1\n",
       "60.00        1\n",
       "44.00        1\n",
       "144.00       1\n",
       "88.00        1\n",
       "11.26        1\n",
       "11.27        1\n",
       "121.00       1\n",
       "9.75         1\n",
       "99.00        1\n",
       "204.00       1\n",
       "45.00        1\n",
       "165.00       1\n",
       "50.00        1\n",
       "Name: rating_numerator, dtype: int64"
      ]
     },
     "execution_count": 74,
     "metadata": {},
     "output_type": "execute_result"
    }
   ],
   "source": [
    "df_total['rating_numerator'].value_counts()"
   ]
  },
  {
   "cell_type": "code",
   "execution_count": 75,
   "metadata": {},
   "outputs": [
    {
     "data": {
      "text/html": [
       "<div>\n",
       "<style scoped>\n",
       "    .dataframe tbody tr th:only-of-type {\n",
       "        vertical-align: middle;\n",
       "    }\n",
       "\n",
       "    .dataframe tbody tr th {\n",
       "        vertical-align: top;\n",
       "    }\n",
       "\n",
       "    .dataframe thead th {\n",
       "        text-align: right;\n",
       "    }\n",
       "</style>\n",
       "<table border=\"1\" class=\"dataframe\">\n",
       "  <thead>\n",
       "    <tr style=\"text-align: right;\">\n",
       "      <th></th>\n",
       "      <th>id</th>\n",
       "      <th>timestamp</th>\n",
       "      <th>text</th>\n",
       "      <th>rating_numerator</th>\n",
       "      <th>rating_denominator</th>\n",
       "      <th>name</th>\n",
       "      <th>stage</th>\n",
       "      <th>retweet_count</th>\n",
       "      <th>favorite_count</th>\n",
       "      <th>img_num</th>\n",
       "      <th>p1</th>\n",
       "      <th>p1_conf</th>\n",
       "    </tr>\n",
       "  </thead>\n",
       "  <tbody>\n",
       "    <tr>\n",
       "      <th>1712</th>\n",
       "      <td>680494726643068929</td>\n",
       "      <td>2015-12-25 21:06:00 +0000</td>\n",
       "      <td>Here we have uncovered an entire battalion of ...</td>\n",
       "      <td>11.26</td>\n",
       "      <td>10</td>\n",
       "      <td>None</td>\n",
       "      <td>NaN</td>\n",
       "      <td>542.0</td>\n",
       "      <td>1879.0</td>\n",
       "      <td>1.0</td>\n",
       "      <td>kuvasz</td>\n",
       "      <td>0.438627</td>\n",
       "    </tr>\n",
       "  </tbody>\n",
       "</table>\n",
       "</div>"
      ],
      "text/plain": [
       "                      id                  timestamp  \\\n",
       "1712  680494726643068929  2015-12-25 21:06:00 +0000   \n",
       "\n",
       "                                                   text  rating_numerator  \\\n",
       "1712  Here we have uncovered an entire battalion of ...             11.26   \n",
       "\n",
       "      rating_denominator  name stage  retweet_count  favorite_count  img_num  \\\n",
       "1712                  10  None   NaN          542.0          1879.0      1.0   \n",
       "\n",
       "          p1   p1_conf  \n",
       "1712  kuvasz  0.438627  "
      ]
     },
     "execution_count": 75,
     "metadata": {},
     "output_type": "execute_result"
    }
   ],
   "source": [
    "# Even numerator values with decimal pts are correctly extracted\n",
    "df_total[df_total['rating_numerator']==11.26]"
   ]
  },
  {
   "cell_type": "markdown",
   "metadata": {},
   "source": [
    "**Define & Code**\n",
    "#### Fix the wrong 'rating_denominator' values (should not be below 10)"
   ]
  },
  {
   "cell_type": "code",
   "execution_count": 76,
   "metadata": {},
   "outputs": [
    {
     "data": {
      "text/plain": [
       "10     2080\n",
       "50        3\n",
       "11        2\n",
       "80        2\n",
       "7         1\n",
       "170       1\n",
       "150       1\n",
       "120       1\n",
       "110       1\n",
       "90        1\n",
       "70        1\n",
       "40        1\n",
       "20        1\n",
       "2         1\n",
       "Name: rating_denominator, dtype: int64"
      ]
     },
     "execution_count": 76,
     "metadata": {},
     "output_type": "execute_result"
    }
   ],
   "source": [
    "df_total['rating_denominator'].value_counts()\n",
    "# denominator of 2, 7, 20, 40 are very unlikely values. We should further look at these data"
   ]
  },
  {
   "cell_type": "code",
   "execution_count": 77,
   "metadata": {},
   "outputs": [
    {
     "data": {
      "text/html": [
       "<div>\n",
       "<style scoped>\n",
       "    .dataframe tbody tr th:only-of-type {\n",
       "        vertical-align: middle;\n",
       "    }\n",
       "\n",
       "    .dataframe tbody tr th {\n",
       "        vertical-align: top;\n",
       "    }\n",
       "\n",
       "    .dataframe thead th {\n",
       "        text-align: right;\n",
       "    }\n",
       "</style>\n",
       "<table border=\"1\" class=\"dataframe\">\n",
       "  <thead>\n",
       "    <tr style=\"text-align: right;\">\n",
       "      <th></th>\n",
       "      <th>id</th>\n",
       "      <th>timestamp</th>\n",
       "      <th>text</th>\n",
       "      <th>rating_numerator</th>\n",
       "      <th>rating_denominator</th>\n",
       "      <th>name</th>\n",
       "      <th>stage</th>\n",
       "      <th>retweet_count</th>\n",
       "      <th>favorite_count</th>\n",
       "      <th>img_num</th>\n",
       "      <th>p1</th>\n",
       "      <th>p1_conf</th>\n",
       "    </tr>\n",
       "  </thead>\n",
       "  <tbody>\n",
       "    <tr>\n",
       "      <th>516</th>\n",
       "      <td>810984652412424192</td>\n",
       "      <td>2016-12-19 23:06:23 +0000</td>\n",
       "      <td>Meet Sam. She smiles 24/7 &amp;amp; secretly aspir...</td>\n",
       "      <td>24.0</td>\n",
       "      <td>7</td>\n",
       "      <td>Sam</td>\n",
       "      <td>NaN</td>\n",
       "      <td>1655.0</td>\n",
       "      <td>5927.0</td>\n",
       "      <td>1.0</td>\n",
       "      <td>golden_retriever</td>\n",
       "      <td>0.871342</td>\n",
       "    </tr>\n",
       "    <tr>\n",
       "      <th>1165</th>\n",
       "      <td>722974582966214656</td>\n",
       "      <td>2016-04-21 02:25:47 +0000</td>\n",
       "      <td>Happy 4/20 from the squad! 13/10 for all https...</td>\n",
       "      <td>4.0</td>\n",
       "      <td>20</td>\n",
       "      <td>None</td>\n",
       "      <td>NaN</td>\n",
       "      <td>1764.0</td>\n",
       "      <td>4493.0</td>\n",
       "      <td>1.0</td>\n",
       "      <td>Great_Dane</td>\n",
       "      <td>0.246762</td>\n",
       "    </tr>\n",
       "    <tr>\n",
       "      <th>1433</th>\n",
       "      <td>697463031882764288</td>\n",
       "      <td>2016-02-10 16:51:59 +0000</td>\n",
       "      <td>Happy Wednesday here's a bucket of pups. 44/40...</td>\n",
       "      <td>44.0</td>\n",
       "      <td>40</td>\n",
       "      <td>None</td>\n",
       "      <td>NaN</td>\n",
       "      <td>1552.0</td>\n",
       "      <td>3748.0</td>\n",
       "      <td>1.0</td>\n",
       "      <td>Labrador_retriever</td>\n",
       "      <td>0.999885</td>\n",
       "    </tr>\n",
       "    <tr>\n",
       "      <th>2335</th>\n",
       "      <td>666287406224695296</td>\n",
       "      <td>2015-11-16 16:11:11 +0000</td>\n",
       "      <td>This is an Albanian 3 1/2 legged  Episcopalian...</td>\n",
       "      <td>1.0</td>\n",
       "      <td>2</td>\n",
       "      <td>an</td>\n",
       "      <td>NaN</td>\n",
       "      <td>71.0</td>\n",
       "      <td>152.0</td>\n",
       "      <td>1.0</td>\n",
       "      <td>Maltese_dog</td>\n",
       "      <td>0.857531</td>\n",
       "    </tr>\n",
       "  </tbody>\n",
       "</table>\n",
       "</div>"
      ],
      "text/plain": [
       "                      id                  timestamp  \\\n",
       "516   810984652412424192  2016-12-19 23:06:23 +0000   \n",
       "1165  722974582966214656  2016-04-21 02:25:47 +0000   \n",
       "1433  697463031882764288  2016-02-10 16:51:59 +0000   \n",
       "2335  666287406224695296  2015-11-16 16:11:11 +0000   \n",
       "\n",
       "                                                   text  rating_numerator  \\\n",
       "516   Meet Sam. She smiles 24/7 &amp; secretly aspir...              24.0   \n",
       "1165  Happy 4/20 from the squad! 13/10 for all https...               4.0   \n",
       "1433  Happy Wednesday here's a bucket of pups. 44/40...              44.0   \n",
       "2335  This is an Albanian 3 1/2 legged  Episcopalian...               1.0   \n",
       "\n",
       "      rating_denominator  name stage  retweet_count  favorite_count  img_num  \\\n",
       "516                    7   Sam   NaN         1655.0          5927.0      1.0   \n",
       "1165                  20  None   NaN         1764.0          4493.0      1.0   \n",
       "1433                  40  None   NaN         1552.0          3748.0      1.0   \n",
       "2335                   2    an   NaN           71.0           152.0      1.0   \n",
       "\n",
       "                      p1   p1_conf  \n",
       "516     golden_retriever  0.871342  \n",
       "1165          Great_Dane  0.246762  \n",
       "1433  Labrador_retriever  0.999885  \n",
       "2335         Maltese_dog  0.857531  "
      ]
     },
     "execution_count": 77,
     "metadata": {},
     "output_type": "execute_result"
    }
   ],
   "source": [
    "df_total.query('rating_denominator in [2,7,20,40]')"
   ]
  },
  {
   "cell_type": "code",
   "execution_count": 78,
   "metadata": {},
   "outputs": [],
   "source": [
    "df_total.query('rating_denominator in [2,7,20,40]')\n",
    "# it can be seen that values of 2, 7, and 20 are wronglg recorded. It extracted the 'date' instead of 'denominator'.\n",
    "# Thus we manullay change the 'rating_denominator' for this case\n",
    "\n",
    "# 2: should be 10\n",
    "df_total.loc[2335, 'rating_denominator'] = int(10)\n",
    "# 7: rating does not exist\n",
    "df_total.loc[516, 'rating_denominator'] = np.nan\n",
    "# 20 should be 10\n",
    "df_total.loc[1165, 'rating_denominator'] = int(10)\n",
    "\n",
    "# due to NaN value, we convert the datatype from 'float64' to 'Int64'\n",
    "df_total['rating_denominator'] = df_total['rating_denominator'].astype('Int64')"
   ]
  },
  {
   "cell_type": "markdown",
   "metadata": {},
   "source": [
    "**Test**"
   ]
  },
  {
   "cell_type": "code",
   "execution_count": 79,
   "metadata": {},
   "outputs": [
    {
     "data": {
      "text/plain": [
       "(10, <NA>, 10)"
      ]
     },
     "execution_count": 79,
     "metadata": {},
     "output_type": "execute_result"
    }
   ],
   "source": [
    "# Test\n",
    "df_total.loc[2335, 'rating_denominator'], df_total.loc[516, 'rating_denominator'], df_total.loc[1165, 'rating_denominator']"
   ]
  },
  {
   "cell_type": "markdown",
   "metadata": {},
   "source": [
    "**Define & Code**\n",
    "#### Change Data type of 'timestamp' column from 'object' to 'Datetime'"
   ]
  },
  {
   "cell_type": "code",
   "execution_count": 80,
   "metadata": {},
   "outputs": [],
   "source": [
    "# First, delete the last 5 characters(+0000), which are unnecessary\n",
    "df_total['timestamp'] = df_total['timestamp'].str[:-5].str.strip().astype('datetime64')"
   ]
  },
  {
   "cell_type": "markdown",
   "metadata": {},
   "source": [
    "**Test**"
   ]
  },
  {
   "cell_type": "code",
   "execution_count": 81,
   "metadata": {},
   "outputs": [
    {
     "name": "stdout",
     "output_type": "stream",
     "text": [
      "<class 'pandas.core.frame.DataFrame'>\n",
      "Int64Index: 2097 entries, 0 to 2355\n",
      "Data columns (total 12 columns):\n",
      " #   Column              Non-Null Count  Dtype         \n",
      "---  ------              --------------  -----         \n",
      " 0   id                  2097 non-null   int64         \n",
      " 1   timestamp           2097 non-null   datetime64[ns]\n",
      " 2   text                2097 non-null   object        \n",
      " 3   rating_numerator    2097 non-null   float64       \n",
      " 4   rating_denominator  2096 non-null   Int64         \n",
      " 5   name                2097 non-null   object        \n",
      " 6   stage               336 non-null    object        \n",
      " 7   retweet_count       2097 non-null   float64       \n",
      " 8   favorite_count      2097 non-null   float64       \n",
      " 9   img_num             1971 non-null   float64       \n",
      " 10  p1                  1971 non-null   object        \n",
      " 11  p1_conf             1971 non-null   float64       \n",
      "dtypes: Int64(1), datetime64[ns](1), float64(5), int64(1), object(4)\n",
      "memory usage: 295.0+ KB\n"
     ]
    }
   ],
   "source": [
    "# Test\n",
    "df_total.info()"
   ]
  },
  {
   "cell_type": "markdown",
   "metadata": {},
   "source": [
    "**Define & Code**\n",
    "#### Fix the Wrong data in 'name' columne - Strange names like ['a', 'None', 'Not', 'actually', 'all']"
   ]
  },
  {
   "cell_type": "code",
   "execution_count": 82,
   "metadata": {},
   "outputs": [
    {
     "data": {
      "text/plain": [
       "None       603\n",
       "a           55\n",
       "Charlie     11\n",
       "Lucy        11\n",
       "Cooper      10\n",
       "Oliver      10\n",
       "Tucker       9\n",
       "Penny        9\n",
       "the          8\n",
       "Sadie        8\n",
       "Winston      8\n",
       "Lola         8\n",
       "Daisy        7\n",
       "Toby         7\n",
       "Koda         6\n",
       "Bo           6\n",
       "Bella        6\n",
       "Jax          6\n",
       "an           6\n",
       "Oscar        6\n",
       "Bailey       6\n",
       "Stanley      6\n",
       "Rusty        5\n",
       "Dave         5\n",
       "Chester      5\n",
       "Louis        5\n",
       "Leo          5\n",
       "Buddy        5\n",
       "Bentley      5\n",
       "Scout        5\n",
       "Milo         5\n",
       "Alfie        4\n",
       "one          4\n",
       "very         4\n",
       "Oakley       4\n",
       "Winnie       4\n",
       "Chip         4\n",
       "Sophie       4\n",
       "Jeffrey      4\n",
       "Sammy        4\n",
       "Name: name, dtype: int64"
      ]
     },
     "execution_count": 82,
     "metadata": {},
     "output_type": "execute_result"
    }
   ],
   "source": [
    "df_total['name'].value_counts()[:40]\n",
    "# strange names like [a, None, Not, actually, all, the, an, very etc.... ] can be found. These need changes\n",
    "# Pattern found here that, all invalid names are written in lower cases."
   ]
  },
  {
   "cell_type": "code",
   "execution_count": 83,
   "metadata": {},
   "outputs": [
    {
     "name": "stdout",
     "output_type": "stream",
     "text": [
      "a               55\n",
      "the              8\n",
      "an               6\n",
      "one              4\n",
      "very             4\n",
      "quite            3\n",
      "just             3\n",
      "actually         2\n",
      "not              2\n",
      "getting          2\n",
      "my               1\n",
      "mad              1\n",
      "life             1\n",
      "incredibly       1\n",
      "all              1\n",
      "infuriating      1\n",
      "his              1\n",
      "old              1\n",
      "this             1\n",
      "such             1\n",
      "unacceptable     1\n",
      "by               1\n",
      "light            1\n",
      "officially       1\n",
      "space            1\n",
      "Name: name, dtype: int64\n"
     ]
    }
   ],
   "source": [
    "# Sort the rows with lower-cased names and replace the values with 'NaN'\n",
    "print(df_total[df_total['name'].str.islower()]['name'].value_counts())\n",
    "def validName(name):\n",
    "    if name.islower():\n",
    "        return ''\n",
    "    else:\n",
    "        return name\n",
    "df_total['name'] = df_total['name'].apply(lambda x: validName(x))"
   ]
  },
  {
   "cell_type": "code",
   "execution_count": 84,
   "metadata": {},
   "outputs": [],
   "source": [
    "# df_name = df_total.query('name in [\"a\", \"None\", \"not\", \"actually\", \"all\"]')\n",
    "# def getName(text):\n",
    "#     name = text.split('named ')\n",
    "#     if len(name)==2:\n",
    "#         return name[1].split(' ')[0].replace('.', '')\n",
    "#     else:\n",
    "#         return 'None'\n",
    "# df_name['name'] = df_name.apply(lambda x: getName(x['text']), axis=1)\n",
    "\n",
    "# # create 'correct_name_dict' to change the values of wrong 'name' in original df(df_total)\n",
    "# correct_name_dict = dict()\n",
    "# for idx,row in df_name.iterrows():\n",
    "#     correct_name_dict[row['id']] = row['name']\n",
    "# # Reflect the change in original df (df_total)\n",
    "# for idx,row in df_total.iterrows():\n",
    "#     if row['id'] in correct_name_dict:\n",
    "#         df_total.loc[idx, 'name'] = correct_name_dict[row['id']]"
   ]
  },
  {
   "cell_type": "markdown",
   "metadata": {},
   "source": [
    "**Test**"
   ]
  },
  {
   "cell_type": "code",
   "execution_count": 85,
   "metadata": {},
   "outputs": [
    {
     "data": {
      "text/plain": [
       "Series([], Name: name, dtype: int64)"
      ]
     },
     "execution_count": 85,
     "metadata": {},
     "output_type": "execute_result"
    }
   ],
   "source": [
    "#if there is any 'lower-cased' names\n",
    "df_total[df_total['name'].str.islower()]['name'].value_counts()"
   ]
  },
  {
   "cell_type": "markdown",
   "metadata": {},
   "source": [
    "**Define & Code**\n",
    "#### Change the data type of 'retweet_count'\t,'favorite_count',\t,img_num'\tto int"
   ]
  },
  {
   "cell_type": "code",
   "execution_count": 86,
   "metadata": {},
   "outputs": [],
   "source": [
    "df_total['retweet_count'] = df_total['retweet_count'].astype('Int64')\n",
    "df_total['favorite_count'] = df_total['favorite_count'].astype('Int64')\n",
    "df_total['img_num'] = df_total['img_num'].astype('Int64')"
   ]
  },
  {
   "cell_type": "markdown",
   "metadata": {},
   "source": [
    "**Test**"
   ]
  },
  {
   "cell_type": "code",
   "execution_count": 87,
   "metadata": {},
   "outputs": [
    {
     "name": "stdout",
     "output_type": "stream",
     "text": [
      "<class 'pandas.core.frame.DataFrame'>\n",
      "Int64Index: 2097 entries, 0 to 2355\n",
      "Data columns (total 12 columns):\n",
      " #   Column              Non-Null Count  Dtype         \n",
      "---  ------              --------------  -----         \n",
      " 0   id                  2097 non-null   int64         \n",
      " 1   timestamp           2097 non-null   datetime64[ns]\n",
      " 2   text                2097 non-null   object        \n",
      " 3   rating_numerator    2097 non-null   float64       \n",
      " 4   rating_denominator  2096 non-null   Int64         \n",
      " 5   name                2097 non-null   object        \n",
      " 6   stage               336 non-null    object        \n",
      " 7   retweet_count       2097 non-null   Int64         \n",
      " 8   favorite_count      2097 non-null   Int64         \n",
      " 9   img_num             1971 non-null   Int64         \n",
      " 10  p1                  1971 non-null   object        \n",
      " 11  p1_conf             1971 non-null   float64       \n",
      "dtypes: Int64(4), datetime64[ns](1), float64(2), int64(1), object(4)\n",
      "memory usage: 301.2+ KB\n"
     ]
    }
   ],
   "source": [
    "# Test\n",
    "df_total.info()"
   ]
  },
  {
   "cell_type": "markdown",
   "metadata": {},
   "source": [
    "**Define & Code**\n",
    "#### Replace \"None\" with \"Nan\""
   ]
  },
  {
   "cell_type": "code",
   "execution_count": 88,
   "metadata": {},
   "outputs": [],
   "source": [
    "df_total = df_total.replace('None', np.nan)"
   ]
  },
  {
   "cell_type": "markdown",
   "metadata": {},
   "source": [
    "**Test**"
   ]
  },
  {
   "cell_type": "code",
   "execution_count": 89,
   "metadata": {},
   "outputs": [
    {
     "data": {
      "text/html": [
       "<div>\n",
       "<style scoped>\n",
       "    .dataframe tbody tr th:only-of-type {\n",
       "        vertical-align: middle;\n",
       "    }\n",
       "\n",
       "    .dataframe tbody tr th {\n",
       "        vertical-align: top;\n",
       "    }\n",
       "\n",
       "    .dataframe thead th {\n",
       "        text-align: right;\n",
       "    }\n",
       "</style>\n",
       "<table border=\"1\" class=\"dataframe\">\n",
       "  <thead>\n",
       "    <tr style=\"text-align: right;\">\n",
       "      <th></th>\n",
       "      <th>id</th>\n",
       "      <th>timestamp</th>\n",
       "      <th>text</th>\n",
       "      <th>rating_numerator</th>\n",
       "      <th>rating_denominator</th>\n",
       "      <th>name</th>\n",
       "      <th>stage</th>\n",
       "      <th>retweet_count</th>\n",
       "      <th>favorite_count</th>\n",
       "      <th>img_num</th>\n",
       "      <th>p1</th>\n",
       "      <th>p1_conf</th>\n",
       "    </tr>\n",
       "  </thead>\n",
       "  <tbody>\n",
       "    <tr>\n",
       "      <th>2246</th>\n",
       "      <td>667878741721415682</td>\n",
       "      <td>2015-11-21 01:34:35</td>\n",
       "      <td>This is Tedrick. He lives on the edge. Needs s...</td>\n",
       "      <td>2.0</td>\n",
       "      <td>10</td>\n",
       "      <td>Tedrick</td>\n",
       "      <td>NaN</td>\n",
       "      <td>127</td>\n",
       "      <td>409</td>\n",
       "      <td>1</td>\n",
       "      <td>seat_belt</td>\n",
       "      <td>0.200373</td>\n",
       "    </tr>\n",
       "    <tr>\n",
       "      <th>1034</th>\n",
       "      <td>745057283344719872</td>\n",
       "      <td>2016-06-21 00:54:33</td>\n",
       "      <td>This is Oliver. He's downright gorgeous as hel...</td>\n",
       "      <td>12.0</td>\n",
       "      <td>10</td>\n",
       "      <td>Oliver</td>\n",
       "      <td>NaN</td>\n",
       "      <td>2585</td>\n",
       "      <td>7945</td>\n",
       "      <td>2</td>\n",
       "      <td>Shetland_sheepdog</td>\n",
       "      <td>0.963985</td>\n",
       "    </tr>\n",
       "    <tr>\n",
       "      <th>1923</th>\n",
       "      <td>674082852460433408</td>\n",
       "      <td>2015-12-08 04:27:30</td>\n",
       "      <td>This is a Sagitariot Baklava mix. Loves her ne...</td>\n",
       "      <td>11.0</td>\n",
       "      <td>10</td>\n",
       "      <td></td>\n",
       "      <td>NaN</td>\n",
       "      <td>186</td>\n",
       "      <td>804</td>\n",
       "      <td>1</td>\n",
       "      <td>Pomeranian</td>\n",
       "      <td>0.666957</td>\n",
       "    </tr>\n",
       "    <tr>\n",
       "      <th>169</th>\n",
       "      <td>859196978902773760</td>\n",
       "      <td>2017-05-02 00:04:57</td>\n",
       "      <td>We only rate dogs. This is quite clearly a smo...</td>\n",
       "      <td>12.0</td>\n",
       "      <td>10</td>\n",
       "      <td></td>\n",
       "      <td>NaN</td>\n",
       "      <td>25661</td>\n",
       "      <td>75193</td>\n",
       "      <td>1</td>\n",
       "      <td>Angora</td>\n",
       "      <td>0.224218</td>\n",
       "    </tr>\n",
       "    <tr>\n",
       "      <th>1365</th>\n",
       "      <td>702684942141153280</td>\n",
       "      <td>2016-02-25 02:42:00</td>\n",
       "      <td>This is Lucy. She's sick of these bullshit gen...</td>\n",
       "      <td>11.0</td>\n",
       "      <td>10</td>\n",
       "      <td>Lucy</td>\n",
       "      <td>NaN</td>\n",
       "      <td>1215</td>\n",
       "      <td>3516</td>\n",
       "      <td>1</td>\n",
       "      <td>golden_retriever</td>\n",
       "      <td>0.514085</td>\n",
       "    </tr>\n",
       "    <tr>\n",
       "      <th>1764</th>\n",
       "      <td>678424312106393600</td>\n",
       "      <td>2015-12-20 03:58:55</td>\n",
       "      <td>This is Crystal. She's a shitty fireman. No se...</td>\n",
       "      <td>2.0</td>\n",
       "      <td>10</td>\n",
       "      <td>Crystal</td>\n",
       "      <td>NaN</td>\n",
       "      <td>2880</td>\n",
       "      <td>5916</td>\n",
       "      <td>1</td>\n",
       "      <td>Maltese_dog</td>\n",
       "      <td>0.759945</td>\n",
       "    </tr>\n",
       "    <tr>\n",
       "      <th>2239</th>\n",
       "      <td>667937095915278337</td>\n",
       "      <td>2015-11-21 05:26:27</td>\n",
       "      <td>This dog resembles a baked potato. Bed looks u...</td>\n",
       "      <td>3.0</td>\n",
       "      <td>10</td>\n",
       "      <td>NaN</td>\n",
       "      <td>NaN</td>\n",
       "      <td>866</td>\n",
       "      <td>1356</td>\n",
       "      <td>1</td>\n",
       "      <td>hamster</td>\n",
       "      <td>0.172078</td>\n",
       "    </tr>\n",
       "    <tr>\n",
       "      <th>1949</th>\n",
       "      <td>673689733134946305</td>\n",
       "      <td>2015-12-07 02:25:23</td>\n",
       "      <td>When you're having a blast and remember tomorr...</td>\n",
       "      <td>11.0</td>\n",
       "      <td>10</td>\n",
       "      <td>NaN</td>\n",
       "      <td>NaN</td>\n",
       "      <td>700</td>\n",
       "      <td>1855</td>\n",
       "      <td>1</td>\n",
       "      <td>Chesapeake_Bay_retriever</td>\n",
       "      <td>0.382220</td>\n",
       "    </tr>\n",
       "    <tr>\n",
       "      <th>31</th>\n",
       "      <td>886258384151887873</td>\n",
       "      <td>2017-07-15 16:17:19</td>\n",
       "      <td>This is Waffles. His doggles are pupside down....</td>\n",
       "      <td>13.0</td>\n",
       "      <td>10</td>\n",
       "      <td>Waffles</td>\n",
       "      <td>NaN</td>\n",
       "      <td>6523</td>\n",
       "      <td>28469</td>\n",
       "      <td>1</td>\n",
       "      <td>pug</td>\n",
       "      <td>0.943575</td>\n",
       "    </tr>\n",
       "    <tr>\n",
       "      <th>207</th>\n",
       "      <td>852553447878664193</td>\n",
       "      <td>2017-04-13 16:05:56</td>\n",
       "      <td>This is Jarod. He likes having his belly brush...</td>\n",
       "      <td>13.0</td>\n",
       "      <td>10</td>\n",
       "      <td>Jarod</td>\n",
       "      <td>NaN</td>\n",
       "      <td>3885</td>\n",
       "      <td>17492</td>\n",
       "      <td>1</td>\n",
       "      <td>bloodhound</td>\n",
       "      <td>0.186498</td>\n",
       "    </tr>\n",
       "  </tbody>\n",
       "</table>\n",
       "</div>"
      ],
      "text/plain": [
       "                      id           timestamp  \\\n",
       "2246  667878741721415682 2015-11-21 01:34:35   \n",
       "1034  745057283344719872 2016-06-21 00:54:33   \n",
       "1923  674082852460433408 2015-12-08 04:27:30   \n",
       "169   859196978902773760 2017-05-02 00:04:57   \n",
       "1365  702684942141153280 2016-02-25 02:42:00   \n",
       "1764  678424312106393600 2015-12-20 03:58:55   \n",
       "2239  667937095915278337 2015-11-21 05:26:27   \n",
       "1949  673689733134946305 2015-12-07 02:25:23   \n",
       "31    886258384151887873 2017-07-15 16:17:19   \n",
       "207   852553447878664193 2017-04-13 16:05:56   \n",
       "\n",
       "                                                   text  rating_numerator  \\\n",
       "2246  This is Tedrick. He lives on the edge. Needs s...               2.0   \n",
       "1034  This is Oliver. He's downright gorgeous as hel...              12.0   \n",
       "1923  This is a Sagitariot Baklava mix. Loves her ne...              11.0   \n",
       "169   We only rate dogs. This is quite clearly a smo...              12.0   \n",
       "1365  This is Lucy. She's sick of these bullshit gen...              11.0   \n",
       "1764  This is Crystal. She's a shitty fireman. No se...               2.0   \n",
       "2239  This dog resembles a baked potato. Bed looks u...               3.0   \n",
       "1949  When you're having a blast and remember tomorr...              11.0   \n",
       "31    This is Waffles. His doggles are pupside down....              13.0   \n",
       "207   This is Jarod. He likes having his belly brush...              13.0   \n",
       "\n",
       "      rating_denominator     name stage  retweet_count  favorite_count  \\\n",
       "2246                  10  Tedrick   NaN            127             409   \n",
       "1034                  10   Oliver   NaN           2585            7945   \n",
       "1923                  10            NaN            186             804   \n",
       "169                   10            NaN          25661           75193   \n",
       "1365                  10     Lucy   NaN           1215            3516   \n",
       "1764                  10  Crystal   NaN           2880            5916   \n",
       "2239                  10      NaN   NaN            866            1356   \n",
       "1949                  10      NaN   NaN            700            1855   \n",
       "31                    10  Waffles   NaN           6523           28469   \n",
       "207                   10    Jarod   NaN           3885           17492   \n",
       "\n",
       "      img_num                        p1   p1_conf  \n",
       "2246        1                 seat_belt  0.200373  \n",
       "1034        2         Shetland_sheepdog  0.963985  \n",
       "1923        1                Pomeranian  0.666957  \n",
       "169         1                    Angora  0.224218  \n",
       "1365        1          golden_retriever  0.514085  \n",
       "1764        1               Maltese_dog  0.759945  \n",
       "2239        1                   hamster  0.172078  \n",
       "1949        1  Chesapeake_Bay_retriever  0.382220  \n",
       "31          1                       pug  0.943575  \n",
       "207         1                bloodhound  0.186498  "
      ]
     },
     "execution_count": 89,
     "metadata": {},
     "output_type": "execute_result"
    }
   ],
   "source": [
    "# Test\n",
    "df_total.sample(10)"
   ]
  },
  {
   "cell_type": "markdown",
   "metadata": {},
   "source": [
    "## Data Visualization and Analysis"
   ]
  },
  {
   "cell_type": "code",
   "execution_count": 90,
   "metadata": {},
   "outputs": [],
   "source": [
    "# Whitegrid option\n",
    "sns.set_style('whitegrid')"
   ]
  },
  {
   "cell_type": "markdown",
   "metadata": {},
   "source": [
    "### Boxplot between 'rating_numerator' and 'favorite_count'"
   ]
  },
  {
   "cell_type": "code",
   "execution_count": 91,
   "metadata": {},
   "outputs": [
    {
     "data": {
      "text/plain": [
       "[Text(0, 0.5, 'Number of Favorite'),\n",
       " Text(0.5, 0, 'Rating_numerator'),\n",
       " Text(0.5, 1.0, 'Boxplot between rating_numerator and favorite_count')]"
      ]
     },
     "execution_count": 91,
     "metadata": {},
     "output_type": "execute_result"
    },
    {
     "data": {
      "image/png": "[encoded data removed]",
      "text/plain": [
       "<Figure size 1728x432 with 1 Axes>"
      ]
     },
     "metadata": {},
     "output_type": "display_data"
    }
   ],
   "source": [
    "# Font & Graph options\n",
    "sns.set(font_scale=1.3)\n",
    "plt.subplots(figsize=(24, 6))\n",
    "\n",
    "# boxplot \n",
    "sns.boxplot(x=df_total['rating_numerator'], y=df_total['favorite_count']).set(xlabel='Rating_numerator',\n",
    "                                                                              ylabel='Number of Favorite',\n",
    "                                                                              title='Boxplot between rating_numerator and favorite_count')"
   ]
  },
  {
   "cell_type": "markdown",
   "metadata": {},
   "source": [
    "Insight\n",
    "- Supposing rating_numerator values of 24~1776 are outliers, our data show that <strong>Highly</strong> rated tweets are more likely to receive 'Favorite' from the users"
   ]
  },
  {
   "cell_type": "markdown",
   "metadata": {},
   "source": [
    "### Boxplot between 'rating_numerator' and 'retweet_count'"
   ]
  },
  {
   "cell_type": "code",
   "execution_count": 92,
   "metadata": {},
   "outputs": [
    {
     "data": {
      "text/plain": [
       "[Text(0, 0.5, 'Number of Retweet'),\n",
       " Text(0.5, 0, 'Rating_numerator'),\n",
       " Text(0.5, 1.0, 'Boxplot between rating_numerator and retweet_count')]"
      ]
     },
     "execution_count": 92,
     "metadata": {},
     "output_type": "execute_result"
    },
    {
     "data": {
      "image/png": "[encoded data removed]",
      "text/plain": [
       "<Figure size 1728x432 with 1 Axes>"
      ]
     },
     "metadata": {},
     "output_type": "display_data"
    }
   ],
   "source": [
    "# Font & Graph options\n",
    "plt.subplots(figsize=(24, 6))\n",
    "\n",
    "# boxplot \n",
    "sns.boxplot(x=df_total['rating_numerator'], y=df_total['retweet_count']).set(xlabel='Rating_numerator',\n",
    "                                                                              ylabel='Number of Retweet',\n",
    "                                                                              title='Boxplot between rating_numerator and retweet_count')"
   ]
  },
  {
   "cell_type": "markdown",
   "metadata": {},
   "source": [
    "Insight\n",
    "- Similar to Boxplot between 'rating_numerator' and 'favorite_count', Number of retweet tends to increase as the rating increases"
   ]
  },
  {
   "cell_type": "markdown",
   "metadata": {},
   "source": [
    "### Scatterplot between 'favorite_count'' and 'retweet_count'"
   ]
  },
  {
   "cell_type": "code",
   "execution_count": 93,
   "metadata": {},
   "outputs": [
    {
     "name": "stdout",
     "output_type": "stream",
     "text": [
      "Correlation Factor:  0.9112013037010287\n"
     ]
    },
    {
     "data": {
      "image/png": "[encoded data removed]",
      "text/plain": [
       "<Figure size 360x360 with 1 Axes>"
      ]
     },
     "metadata": {},
     "output_type": "display_data"
    }
   ],
   "source": [
    "plt.subplots(figsize=(5, 5))\n",
    "sns.scatterplot(x=df_total['favorite_count'], y=df_total['retweet_count']).set(xlabel='Number of Favorite',\n",
    "                                                                              ylabel='Number of Retweet',\n",
    "                                                                              title='Scatterplot between favorite_count and retweet_count')\n",
    "print('Correlation Factor: ', np.corrcoef(list(df_total['favorite_count']), list(df_total['retweet_count']))[0,1])"
   ]
  },
  {
   "cell_type": "markdown",
   "metadata": {},
   "source": [
    "Insights\n",
    "- According to the graph and correlation factor of (0.91), which is very high, number of favorite count and retweet have Very High correlation"
   ]
  },
  {
   "cell_type": "markdown",
   "metadata": {},
   "source": [
    "### Lineplot between 'stage'' and 'favorite_count'"
   ]
  },
  {
   "cell_type": "code",
   "execution_count": 94,
   "metadata": {},
   "outputs": [
    {
     "data": {
      "text/plain": [
       "[Text(0, 0.5, 'Number of favorite'),\n",
       " Text(0.5, 0, 'Stage'),\n",
       " Text(0.5, 1.0, 'Lineplot between stage and favorite_count')]"
      ]
     },
     "execution_count": 94,
     "metadata": {},
     "output_type": "execute_result"
    },
    {
     "data": {
      "image/png": "[encoded data removed]",
      "text/plain": [
       "<Figure size 1080x576 with 1 Axes>"
      ]
     },
     "metadata": {},
     "output_type": "display_data"
    }
   ],
   "source": [
    "plt.subplots(figsize=(15, 8))\n",
    "sns.lineplot(data=df_total, x='stage', y='favorite_count').set(xlabel='Stage',\n",
    "                                                               ylabel='Number of favorite',\n",
    "                                                               title='Lineplot between stage and favorite_count')"
   ]
  },
  {
   "cell_type": "markdown",
   "metadata": {},
   "source": [
    "Insight\n",
    "- it seems people tend to like dogs in 'doggo/puppo' stages! (stage between doggo and pupper)\n",
    "- People like dogs that are Not too old and young and Not too big and small"
   ]
  },
  {
   "cell_type": "markdown",
   "metadata": {},
   "source": [
    "### Top 10 Names"
   ]
  },
  {
   "cell_type": "code",
   "execution_count": 95,
   "metadata": {},
   "outputs": [
    {
     "data": {
      "text/plain": [
       "<matplotlib.axes._subplots.AxesSubplot at 0x22685ad5648>"
      ]
     },
     "execution_count": 95,
     "metadata": {},
     "output_type": "execute_result"
    },
    {
     "data": {
      "image/png": "[encoded data removed]",
      "text/plain": [
       "<Figure size 720x360 with 1 Axes>"
      ]
     },
     "metadata": {},
     "output_type": "display_data"
    }
   ],
   "source": [
    "plt.subplots(figsize=(10, 5))\n",
    "# Display the Top 10 names by using 'ordre' parameter\n",
    "sns.countplot(data=df_total, x='name', order=df_total['name'].value_counts().index[1:11])"
   ]
  },
  {
   "cell_type": "markdown",
   "metadata": {},
   "source": [
    "Insights\n",
    "- It can be found that the Top 10 popular names are as follows: 'Lucy', 'Charlie', 'Cooper', 'Oliver', 'Tucker', 'Penny', 'Winston','Sadie', 'Lola', 'Toby'] "
   ]
  },
  {
   "cell_type": "markdown",
   "metadata": {},
   "source": [
    "### Countplot of Timeline(hour)"
   ]
  },
  {
   "cell_type": "code",
   "execution_count": 96,
   "metadata": {},
   "outputs": [
    {
     "name": "stdout",
     "output_type": "stream",
     "text": [
      "<class 'pandas.core.frame.DataFrame'>\n",
      "Int64Index: 2097 entries, 0 to 2355\n",
      "Data columns (total 12 columns):\n",
      " #   Column              Non-Null Count  Dtype         \n",
      "---  ------              --------------  -----         \n",
      " 0   id                  2097 non-null   int64         \n",
      " 1   timestamp           2097 non-null   datetime64[ns]\n",
      " 2   text                2097 non-null   object        \n",
      " 3   rating_numerator    2097 non-null   float64       \n",
      " 4   rating_denominator  2096 non-null   Int64         \n",
      " 5   name                1494 non-null   object        \n",
      " 6   stage               336 non-null    object        \n",
      " 7   retweet_count       2097 non-null   Int64         \n",
      " 8   favorite_count      2097 non-null   Int64         \n",
      " 9   img_num             1971 non-null   Int64         \n",
      " 10  p1                  1971 non-null   object        \n",
      " 11  p1_conf             1971 non-null   float64       \n",
      "dtypes: Int64(4), datetime64[ns](1), float64(2), int64(1), object(4)\n",
      "memory usage: 301.2+ KB\n"
     ]
    }
   ],
   "source": [
    "df_total.info()"
   ]
  },
  {
   "cell_type": "code",
   "execution_count": 97,
   "metadata": {},
   "outputs": [
    {
     "data": {
      "text/plain": [
       "[Text(0, 0.5, 'Count'),\n",
       " Text(0.5, 0, 'Hour'),\n",
       " Text(0.5, 1.0, 'Countplot of Hour')]"
      ]
     },
     "execution_count": 97,
     "metadata": {},
     "output_type": "execute_result"
    },
    {
     "data": {
      "image/png": "[encoded data removed]",
      "text/plain": [
       "<Figure size 504x360 with 1 Axes>"
      ]
     },
     "metadata": {},
     "output_type": "display_data"
    }
   ],
   "source": [
    "plt.subplots(figsize=(7, 5))\n",
    "sns.countplot(data=df_total, x=df_total['timestamp'].dt.hour).set(xlabel='Hour',\n",
    "                                                                  ylabel='Count',\n",
    "                                                                  title='Countplot of Hour')"
   ]
  },
  {
   "cell_type": "markdown",
   "metadata": {},
   "source": [
    "Insight\n",
    "- it seems like WeRateDogs Account owner is very active during (00:00~02:00) period and likes to take a rest of focus on his job during (07:00 ~ 13:00) period"
   ]
  },
  {
   "cell_type": "markdown",
   "metadata": {},
   "source": [
    "## Exporting \"twitter_archive_master.csv\""
   ]
  },
  {
   "cell_type": "code",
   "execution_count": 98,
   "metadata": {},
   "outputs": [],
   "source": [
    "df_total.to_csv('twitter_archive_master.csv', index=False)"
   ]
  },
  {
   "cell_type": "code",
   "execution_count": null,
   "metadata": {},
   "outputs": [],
   "source": []
  }
 ],
 "metadata": {
  "kernelspec": {
   "display_name": "Python 3",
   "language": "python",
   "name": "python3"
  },
  "language_info": {
   "codemirror_mode": {
    "name": "ipython",
    "version": 3
   },
   "file_extension": ".py",
   "mimetype": "text/x-python",
   "name": "python",
   "nbconvert_exporter": "python",
   "pygments_lexer": "ipython3",
   "version": "3.7.7"
  },
  "toc": {
   "base_numbering": 1,
   "nav_menu": {},
   "number_sections": true,
   "sideBar": true,
   "skip_h1_title": false,
   "title_cell": "Table of Contents",
   "title_sidebar": "Contents",
   "toc_cell": false,
   "toc_position": {},
   "toc_section_display": true,
   "toc_window_display": false
  },
  "varInspector": {
   "cols": {
    "lenName": 16,
    "lenType": 16,
    "lenVar": 40
   },
   "kernels_config": {
    "python": {
     "delete_cmd_postfix": "",
     "delete_cmd_prefix": "del ",
     "library": "var_list.py",
     "varRefreshCmd": "print(var_dic_list())"
    },
    "r": {
     "delete_cmd_postfix": ") ",
     "delete_cmd_prefix": "rm(",
     "library": "var_list.r",
     "varRefreshCmd": "cat(var_dic_list()) "
    }
   },
   "types_to_exclude": [
    "module",
    "function",
    "builtin_function_or_method",
    "instance",
    "_Feature"
   ],
   "window_display": false
  }
 },
 "nbformat": 4,
 "nbformat_minor": 4
}
