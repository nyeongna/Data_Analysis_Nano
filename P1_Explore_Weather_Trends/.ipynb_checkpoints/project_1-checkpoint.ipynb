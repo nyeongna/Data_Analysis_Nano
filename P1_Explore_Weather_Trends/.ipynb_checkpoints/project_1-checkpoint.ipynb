{
 "cells": [
  {
   "cell_type": "code",
   "execution_count": 1,
   "metadata": {},
   "outputs": [],
   "source": [
    "import pandas as pd"
   ]
  },
  {
   "cell_type": "markdown",
   "metadata": {},
   "source": [
    "### Data Loading"
   ]
  },
  {
   "cell_type": "markdown",
   "metadata": {},
   "source": [
    "SQL Query used:\n",
    "\n",
    "SELECT * from city_data   : saved as \"city_data.csv\"\n",
    "<br/>\n",
    "SELECT * from city_list   : saved as \"city_list.csv\"\n",
    "<br/>\n",
    "SELECT * from globla_data: saved as \"global_data.csv\""
   ]
  },
  {
   "cell_type": "code",
   "execution_count": 2,
   "metadata": {},
   "outputs": [],
   "source": [
    "cd = pd.read_csv('./city_data.csv')\n",
    "cl = pd.read_csv('./city_list.csv')\n",
    "gd = pd.read_csv('./global_data.csv')"
   ]
  },
  {
   "cell_type": "markdown",
   "metadata": {},
   "source": [
    "### Check if 'Seoul' is in the data"
   ]
  },
  {
   "cell_type": "code",
   "execution_count": 3,
   "metadata": {},
   "outputs": [
    {
     "name": "stdout",
     "output_type": "stream",
     "text": [
      "Yes\n"
     ]
    }
   ],
   "source": [
    "if 'Seoul' in cd['city'].unique():\n",
    "    print('Yes')"
   ]
  },
  {
   "cell_type": "markdown",
   "metadata": {},
   "source": [
    "### Extract the data that is relevant to 'Seoul'\n",
    "### Check if there is any 'NaN' data"
   ]
  },
  {
   "cell_type": "code",
   "execution_count": 4,
   "metadata": {},
   "outputs": [
    {
     "name": "stdout",
     "output_type": "stream",
     "text": [
      "<class 'pandas.core.frame.DataFrame'>\n",
      "Int64Index: 175 entries, 58999 to 59173\n",
      "Data columns (total 4 columns):\n",
      " #   Column    Non-Null Count  Dtype  \n",
      "---  ------    --------------  -----  \n",
      " 0   year      175 non-null    int64  \n",
      " 1   city      175 non-null    object \n",
      " 2   country   175 non-null    object \n",
      " 3   avg_temp  175 non-null    float64\n",
      "dtypes: float64(1), int64(1), object(2)\n",
      "memory usage: 6.8+ KB\n"
     ]
    }
   ],
   "source": [
    "seoul = cd[cd['city'] == 'Seoul']\n",
    "### No NaN data\n",
    "seoul.info()"
   ]
  },
  {
   "cell_type": "code",
   "execution_count": 5,
   "metadata": {},
   "outputs": [],
   "source": [
    "# reset the index\n",
    "seoul = seoul.reset_index(drop=True)"
   ]
  },
  {
   "cell_type": "code",
   "execution_count": 6,
   "metadata": {},
   "outputs": [],
   "source": [
    "# Calculating Moving Average Temperature of Seoul\n",
    "MA = [0,0,0,0,0,0]\n",
    "for idx in range(len(seoul)):\n",
    "    if (idx >= 6):\n",
    "        MA.append(seoul['avg_temp'][idx-6:idx+1].mean())\n",
    "seoul['MA'] = MA"
   ]
  },
  {
   "cell_type": "code",
   "execution_count": 7,
   "metadata": {},
   "outputs": [
    {
     "data": {
      "text/html": [
       "<div>\n",
       "<style scoped>\n",
       "    .dataframe tbody tr th:only-of-type {\n",
       "        vertical-align: middle;\n",
       "    }\n",
       "\n",
       "    .dataframe tbody tr th {\n",
       "        vertical-align: top;\n",
       "    }\n",
       "\n",
       "    .dataframe thead th {\n",
       "        text-align: right;\n",
       "    }\n",
       "</style>\n",
       "<table border=\"1\" class=\"dataframe\">\n",
       "  <thead>\n",
       "    <tr style=\"text-align: right;\">\n",
       "      <th></th>\n",
       "      <th>year</th>\n",
       "      <th>city</th>\n",
       "      <th>country</th>\n",
       "      <th>avg_temp</th>\n",
       "      <th>MA</th>\n",
       "    </tr>\n",
       "  </thead>\n",
       "  <tbody>\n",
       "    <tr>\n",
       "      <th>165</th>\n",
       "      <td>2004</td>\n",
       "      <td>Seoul</td>\n",
       "      <td>South Korea</td>\n",
       "      <td>12.25</td>\n",
       "      <td>11.951429</td>\n",
       "    </tr>\n",
       "    <tr>\n",
       "      <th>166</th>\n",
       "      <td>2005</td>\n",
       "      <td>Seoul</td>\n",
       "      <td>South Korea</td>\n",
       "      <td>11.16</td>\n",
       "      <td>11.737143</td>\n",
       "    </tr>\n",
       "    <tr>\n",
       "      <th>167</th>\n",
       "      <td>2006</td>\n",
       "      <td>Seoul</td>\n",
       "      <td>South Korea</td>\n",
       "      <td>12.01</td>\n",
       "      <td>11.720000</td>\n",
       "    </tr>\n",
       "    <tr>\n",
       "      <th>168</th>\n",
       "      <td>2007</td>\n",
       "      <td>Seoul</td>\n",
       "      <td>South Korea</td>\n",
       "      <td>12.25</td>\n",
       "      <td>11.838571</td>\n",
       "    </tr>\n",
       "    <tr>\n",
       "      <th>169</th>\n",
       "      <td>2008</td>\n",
       "      <td>Seoul</td>\n",
       "      <td>South Korea</td>\n",
       "      <td>11.96</td>\n",
       "      <td>11.890000</td>\n",
       "    </tr>\n",
       "    <tr>\n",
       "      <th>170</th>\n",
       "      <td>2009</td>\n",
       "      <td>Seoul</td>\n",
       "      <td>South Korea</td>\n",
       "      <td>11.84</td>\n",
       "      <td>11.895714</td>\n",
       "    </tr>\n",
       "    <tr>\n",
       "      <th>171</th>\n",
       "      <td>2010</td>\n",
       "      <td>Seoul</td>\n",
       "      <td>South Korea</td>\n",
       "      <td>11.30</td>\n",
       "      <td>11.824286</td>\n",
       "    </tr>\n",
       "    <tr>\n",
       "      <th>172</th>\n",
       "      <td>2011</td>\n",
       "      <td>Seoul</td>\n",
       "      <td>South Korea</td>\n",
       "      <td>11.12</td>\n",
       "      <td>11.662857</td>\n",
       "    </tr>\n",
       "    <tr>\n",
       "      <th>173</th>\n",
       "      <td>2012</td>\n",
       "      <td>Seoul</td>\n",
       "      <td>South Korea</td>\n",
       "      <td>11.23</td>\n",
       "      <td>11.672857</td>\n",
       "    </tr>\n",
       "    <tr>\n",
       "      <th>174</th>\n",
       "      <td>2013</td>\n",
       "      <td>Seoul</td>\n",
       "      <td>South Korea</td>\n",
       "      <td>12.12</td>\n",
       "      <td>11.688571</td>\n",
       "    </tr>\n",
       "  </tbody>\n",
       "</table>\n",
       "</div>"
      ],
      "text/plain": [
       "     year   city      country  avg_temp         MA\n",
       "165  2004  Seoul  South Korea     12.25  11.951429\n",
       "166  2005  Seoul  South Korea     11.16  11.737143\n",
       "167  2006  Seoul  South Korea     12.01  11.720000\n",
       "168  2007  Seoul  South Korea     12.25  11.838571\n",
       "169  2008  Seoul  South Korea     11.96  11.890000\n",
       "170  2009  Seoul  South Korea     11.84  11.895714\n",
       "171  2010  Seoul  South Korea     11.30  11.824286\n",
       "172  2011  Seoul  South Korea     11.12  11.662857\n",
       "173  2012  Seoul  South Korea     11.23  11.672857\n",
       "174  2013  Seoul  South Korea     12.12  11.688571"
      ]
     },
     "execution_count": 7,
     "metadata": {},
     "output_type": "execute_result"
    }
   ],
   "source": [
    "seoul.tail(10)"
   ]
  },
  {
   "cell_type": "code",
   "execution_count": 8,
   "metadata": {},
   "outputs": [],
   "source": [
    "# calculating Moving Average Temperature of Global temp\n",
    "MA = [0,0,0,0,0,0]\n",
    "for idx in range(len(gd)):\n",
    "    if (idx >= 6):\n",
    "        MA.append(gd['avg_temp'][idx-6:idx+1].mean())\n",
    "gd['MA'] = MA"
   ]
  },
  {
   "cell_type": "markdown",
   "metadata": {},
   "source": [
    "### Get rid of data of year 1839~1844  in Seoul because they have no MA value"
   ]
  },
  {
   "cell_type": "code",
   "execution_count": 9,
   "metadata": {},
   "outputs": [],
   "source": [
    "seoul = seoul[6:]"
   ]
  },
  {
   "cell_type": "markdown",
   "metadata": {},
   "source": [
    "### Seoul has data 1845 ~ 2013\n",
    "### Extract Global data from 1845 ~ 2013"
   ]
  },
  {
   "cell_type": "code",
   "execution_count": 10,
   "metadata": {},
   "outputs": [],
   "source": [
    "seoul_year = seoul['year'].unique()\n",
    "\n",
    "new_gd = pd.DataFrame()\n",
    "for idx in range(len(gd)):\n",
    "    if gd['year'][idx] in seoul_year:\n",
    "        new_gd = new_gd.append(gd.iloc[idx])\n",
    "new_gd = new_gd[['year', 'avg_temp', 'MA']]\n",
    "new_gd['year'] = new_gd['year'].astype(int)"
   ]
  },
  {
   "cell_type": "code",
   "execution_count": 11,
   "metadata": {},
   "outputs": [],
   "source": [
    "# reset index for both seoul and global data frame\n",
    "seoul = seoul.reset_index(drop=True)\n",
    "gd = new_gd.reset_index(drop=True)"
   ]
  },
  {
   "cell_type": "markdown",
   "metadata": {},
   "source": [
    "### Seoul (1845 ~ 2013) and Global (1845 ~ 2013) are now ready\n",
    "### let's combine the two data into one DataFrame"
   ]
  },
  {
   "cell_type": "code",
   "execution_count": 12,
   "metadata": {},
   "outputs": [
    {
     "data": {
      "text/html": [
       "<div>\n",
       "<style scoped>\n",
       "    .dataframe tbody tr th:only-of-type {\n",
       "        vertical-align: middle;\n",
       "    }\n",
       "\n",
       "    .dataframe tbody tr th {\n",
       "        vertical-align: top;\n",
       "    }\n",
       "\n",
       "    .dataframe thead th {\n",
       "        text-align: right;\n",
       "    }\n",
       "</style>\n",
       "<table border=\"1\" class=\"dataframe\">\n",
       "  <thead>\n",
       "    <tr style=\"text-align: right;\">\n",
       "      <th></th>\n",
       "      <th>year</th>\n",
       "      <th>avg_temp</th>\n",
       "      <th>MA</th>\n",
       "      <th>type</th>\n",
       "    </tr>\n",
       "  </thead>\n",
       "  <tbody>\n",
       "    <tr>\n",
       "      <th>0</th>\n",
       "      <td>1845</td>\n",
       "      <td>10.25</td>\n",
       "      <td>9.997143</td>\n",
       "      <td>seoul</td>\n",
       "    </tr>\n",
       "    <tr>\n",
       "      <th>1</th>\n",
       "      <td>1846</td>\n",
       "      <td>10.57</td>\n",
       "      <td>10.154286</td>\n",
       "      <td>seoul</td>\n",
       "    </tr>\n",
       "    <tr>\n",
       "      <th>2</th>\n",
       "      <td>1847</td>\n",
       "      <td>10.59</td>\n",
       "      <td>10.208571</td>\n",
       "      <td>seoul</td>\n",
       "    </tr>\n",
       "    <tr>\n",
       "      <th>3</th>\n",
       "      <td>1848</td>\n",
       "      <td>10.36</td>\n",
       "      <td>10.340000</td>\n",
       "      <td>seoul</td>\n",
       "    </tr>\n",
       "    <tr>\n",
       "      <th>4</th>\n",
       "      <td>1849</td>\n",
       "      <td>10.39</td>\n",
       "      <td>10.377143</td>\n",
       "      <td>seoul</td>\n",
       "    </tr>\n",
       "  </tbody>\n",
       "</table>\n",
       "</div>"
      ],
      "text/plain": [
       "   year  avg_temp         MA   type\n",
       "0  1845     10.25   9.997143  seoul\n",
       "1  1846     10.57  10.154286  seoul\n",
       "2  1847     10.59  10.208571  seoul\n",
       "3  1848     10.36  10.340000  seoul\n",
       "4  1849     10.39  10.377143  seoul"
      ]
     },
     "execution_count": 12,
     "metadata": {},
     "output_type": "execute_result"
    }
   ],
   "source": [
    "# add 'type' column for classification\n",
    "seoul['type'] = 'seoul'\n",
    "gd['type'] = 'global'\n",
    "\n",
    "seoul = seoul[['year', 'avg_temp', 'MA', 'type']]\n",
    "total = pd.concat([seoul, gd])\n",
    "total.head()"
   ]
  },
  {
   "cell_type": "markdown",
   "metadata": {},
   "source": [
    "### Visualization of MA of temperature of Seoul compared to global over 1845 ~ 2013"
   ]
  },
  {
   "cell_type": "code",
   "execution_count": 13,
   "metadata": {},
   "outputs": [
    {
     "data": {
      "text/plain": [
       "[Text(0, 0.5, 'Moving Average'),\n",
       " Text(0.5, 1.0, 'Avg temperatrue comparison between Seoul and Global')]"
      ]
     },
     "execution_count": 13,
     "metadata": {},
     "output_type": "execute_result"
    },
    {
     "data": {
      "image/png": "[encoded data removed]",
      "text/plain": [
       "<Figure size 720x360 with 1 Axes>"
      ]
     },
     "metadata": {},
     "output_type": "display_data"
    }
   ],
   "source": [
    "import matplotlib.pyplot as plt\n",
    "import seaborn as sns\n",
    "\n",
    "# use whitegrid style in the graph\n",
    "sns.set_style('whitegrid')\n",
    "sns.set(font_scale=1.5)\n",
    "\n",
    "# use seaborn lineplot\n",
    "plt1, ax1 = plt.subplots(figsize=(10,5))\n",
    "sns.lineplot(data = total, x='year', y='MA', hue='type').set(ylabel='Moving Average',\n",
    "                                                            title='Avg temperatrue comparison between Seoul and Global')\n"
   ]
  },
  {
   "cell_type": "markdown",
   "metadata": {},
   "source": [
    "## Observation"
   ]
  },
  {
   "cell_type": "markdown",
   "metadata": {},
   "source": [
    "### My city Seoul is hotter on average compared to the global average. This is consistent over the whole period. This conclusion may have occurred from the fact that  there are more countries with low temperature around the world.\n",
    "\n",
    "<br/>\n",
    "\n",
    "### More 'up and down' and 'bump-like' shapes are observed in the graph of seoul and smoother shape of line is observed in the graph of global.\n",
    "\n",
    "<br/>\n",
    "\n",
    "### In overall, both Seoul and global showed the gradual increase in the average temperature. And the average temperature increase is getting bigger and bigger as time goes by (as it gets closer to the modern times)\n",
    "\n",
    "<br/>\n",
    "\n",
    "### Both Seoul and the World are getting hotter and hotter as the average temperature is keep increasing for both cases. Thus, the overall trend\n",
    "\n",
    "<br/>\n",
    "\n",
    "### it does not apply for the whole period, but the graphs of Seoul and Global tend to follow the similar trend such that when the average temperature of Seoul goes down, that of Global also goes down."
   ]
  },
  {
   "cell_type": "code",
   "execution_count": null,
   "metadata": {},
   "outputs": [],
   "source": []
  }
 ],
 "metadata": {
  "kernelspec": {
   "display_name": "Python 3",
   "language": "python",
   "name": "python3"
  },
  "language_info": {
   "codemirror_mode": {
    "name": "ipython",
    "version": 3
   },
   "file_extension": ".py",
   "mimetype": "text/x-python",
   "name": "python",
   "nbconvert_exporter": "python",
   "pygments_lexer": "ipython3",
   "version": "3.7.7"
  },
  "toc": {
   "base_numbering": 1,
   "nav_menu": {},
   "number_sections": true,
   "sideBar": true,
   "skip_h1_title": false,
   "title_cell": "Table of Contents",
   "title_sidebar": "Contents",
   "toc_cell": false,
   "toc_position": {},
   "toc_section_display": true,
   "toc_window_display": false
  },
  "varInspector": {
   "cols": {
    "lenName": 16,
    "lenType": 16,
    "lenVar": 40
   },
   "kernels_config": {
    "python": {
     "delete_cmd_postfix": "",
     "delete_cmd_prefix": "del ",
     "library": "var_list.py",
     "varRefreshCmd": "print(var_dic_list())"
    },
    "r": {
     "delete_cmd_postfix": ") ",
     "delete_cmd_prefix": "rm(",
     "library": "var_list.r",
     "varRefreshCmd": "cat(var_dic_list()) "
    }
   },
   "types_to_exclude": [
    "module",
    "function",
    "builtin_function_or_method",
    "instance",
    "_Feature"
   ],
   "window_display": false
  }
 },
 "nbformat": 4,
 "nbformat_minor": 4
}
