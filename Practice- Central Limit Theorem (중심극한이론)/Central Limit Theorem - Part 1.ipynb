{
 "cells": [
  {
   "cell_type": "markdown",
   "metadata": {},
   "source": [
    "### Central Limit Theorem \n",
    "\n",
    "Work through the questions and use the created variables to answer the questions that follow below the notebook.\n",
    "\n",
    "Run the below cell to get started."
   ]
  },
  {
   "cell_type": "code",
   "execution_count": 16,
   "metadata": {},
   "outputs": [
    {
     "name": "stdout",
     "output_type": "stream",
     "text": [
      "100.359787008\n"
     ]
    },
    {
     "data": {
      "text/plain": [
       "99.778601879689063"
      ]
     },
     "execution_count": 16,
     "metadata": {},
     "output_type": "execute_result"
    },
    {
     "data": {
      "image/png": "[encoded data removed]",
      "text/plain": [
       "<matplotlib.figure.Figure at 0x7fbf62a94860>"
      ]
     },
     "metadata": {
      "needs_background": "light"
     },
     "output_type": "display_data"
    }
   ],
   "source": [
    "import numpy as np\n",
    "import matplotlib.pyplot as plt\n",
    "\n",
    "%matplotlib inline\n",
    "np.random.seed(42)\n",
    "\n",
    "pop_data = np.random.gamma(1,100,3000)\n",
    "plt.hist(pop_data);\n",
    "print(pop_data.mean())\n",
    "pop_data.std()"
   ]
  },
  {
   "cell_type": "markdown",
   "metadata": {},
   "source": [
    "`1.` In order to create the sampling distribution for the average of 3 draws of this distribution, follow these steps:\n",
    "\n",
    "`a.` Use numpy's **random.choice** to simulate 3 draws from the `pop_data` array.   <br><br>\n",
    "`b.` Compute the mean of these 3 draws. <br><br>\n",
    "`c.` Write a loop to simulate this process 10,000 times, and store each mean into an array called **means_size_3**.<br><br>\n",
    "`d.` Plot a histogram of your sample means.<br><br>\n",
    "`e.` Use **means_size_3** and **pop_data** to answer the quiz questions below."
   ]
  },
  {
   "cell_type": "code",
   "execution_count": 26,
   "metadata": {},
   "outputs": [
    {
     "name": "stdout",
     "output_type": "stream",
     "text": [
      "100.359820512\n"
     ]
    },
    {
     "data": {
      "image/png": "[encoded data removed]",
      "text/plain": [
       "<matplotlib.figure.Figure at 0x7fbf620cc0b8>"
      ]
     },
     "metadata": {
      "needs_background": "light"
     },
     "output_type": "display_data"
    }
   ],
   "source": [
    "means_size_3 = []\n",
    "for _ in range(10000):\n",
    "    means_size_3.append(np.random.choice(pop_data,10000).mean())\n",
    "plt.hist(means_size_3)\n",
    "print(np.mean(means_size_3))"
   ]
  },
  {
   "cell_type": "code",
   "execution_count": 27,
   "metadata": {},
   "outputs": [
    {
     "data": {
      "text/plain": [
       "100.35982051241852"
      ]
     },
     "execution_count": 27,
     "metadata": {},
     "output_type": "execute_result"
    }
   ],
   "source": [
    "np.mean(means_size_3)"
   ]
  },
  {
   "cell_type": "code",
   "execution_count": 28,
   "metadata": {},
   "outputs": [
    {
     "data": {
      "text/plain": [
       "0.99452331797094984"
      ]
     },
     "execution_count": 28,
     "metadata": {},
     "output_type": "execute_result"
    }
   ],
   "source": [
    "np.std(means_size_3)"
   ]
  },
  {
   "cell_type": "markdown",
   "metadata": {},
   "source": [
    "### Conclusion\n",
    "\n",
    "- Central Limit Theorem(중심극한이론)은 sample size (n)이 충분히 크다면 mean of sampling distribution이 normally distributed 하다는 것이다. 즉 n만 충분히 크다면 mean of sampling distribution은 실제 population의 mean과 비슷해진다.\n",
    "\n",
    "- 여기서는 n=3이 터무니없이 작기 때문에 sampling distribution이 normally distributed되지 않았다.\n",
    "\n",
    "- 보통 n=30 정도가 적당히 크다고 한다"
   ]
  },
  {
   "cell_type": "code",
   "execution_count": null,
   "metadata": {},
   "outputs": [],
   "source": []
  }
 ],
 "metadata": {
  "kernelspec": {
   "display_name": "Python 3",
   "language": "python",
   "name": "python3"
  },
  "language_info": {
   "codemirror_mode": {
    "name": "ipython",
    "version": 3
   },
   "file_extension": ".py",
   "mimetype": "text/x-python",
   "name": "python",
   "nbconvert_exporter": "python",
   "pygments_lexer": "ipython3",
   "version": "3.6.3"
  }
 },
 "nbformat": 4,
 "nbformat_minor": 2
}
